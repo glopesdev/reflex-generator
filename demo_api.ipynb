{
 "cells": [
  {
   "cell_type": "code",
   "execution_count": null,
   "metadata": {},
   "outputs": [],
   "source": [
    "from reflexgenerator.sources import HarpDataType, Register, Mask, MaskCollection, RegisterCollection\n",
    "from reflexgenerator.parser import ElementParser\n",
    "from pathlib import Path"
   ]
  },
  {
   "cell_type": "code",
   "execution_count": null,
   "metadata": {},
   "outputs": [],
   "source": [
    "demo_reg = Register(\n",
    "    name=\"RegName\",\n",
    "    address=32,\n",
    "    dtype=HarpDataType.U8,\n",
    "    is_event=False,\n",
    "    mask_family=\"MaskFamily\",\n",
    "    description=\"Reg description. This is a reg.\",\n",
    "    converter=None,\n",
    "    enable_generator=True)\n",
    "\n",
    "demo_mask = Mask(\n",
    "    name=\"Poke1\",\n",
    "    mask=\"1<<0\",\n",
    "    dtype=HarpDataType.U8,\n",
    "    mask_family=\"DO\",\n",
    "    description=\"Poke1 digital output\",\n",
    "    converter=None,\n",
    "    enable_generator=True\n",
    "    )"
   ]
  },
  {
   "cell_type": "code",
   "execution_count": null,
   "metadata": {},
   "outputs": [],
   "source": [
    "demo_reg_from_dict = Register.from_dict({\n",
    "    \"name\":\"RegName2\",\n",
    "    \"address\":44,\n",
    "    \"dtype\":HarpDataType.S16,\n",
    "    \"is_event\":True,\n",
    "    \"mask_family\":\"MaskFamily2\",\n",
    "    \"description\":\"This is a register created from a dictionary\",\n",
    "    \"converter\":\"adc2volt\",\n",
    "    \"enable_generator\":True\n",
    "    })\n",
    "\n",
    "demo_mask_from_dict = Mask.from_dict({\n",
    "    \"name\":\"Poke2\",\n",
    "    \"mask\":\"0x02\",\n",
    "    \"dtype\":HarpDataType.U8,\n",
    "    \"mask_family\":\"D0\",\n",
    "    \"description\":\"This is a mask created from a dictionary\",\n",
    "    \"converter\":None,\n",
    "    \"enable_generator\":True\n",
    "    })"
   ]
  },
  {
   "cell_type": "code",
   "execution_count": null,
   "metadata": {},
   "outputs": [],
   "source": [
    "demo_mask_collection = MaskCollection([demo_mask, demo_mask_from_dict])\n",
    "\n",
    "demo_reg_collection = RegisterCollection([demo_reg, demo_reg_from_dict])\n"
   ]
  },
  {
   "cell_type": "code",
   "execution_count": null,
   "metadata": {},
   "outputs": [],
   "source": [
    "for m in demo_mask_collection:\n",
    "    print(m)"
   ]
  },
  {
   "cell_type": "code",
   "execution_count": null,
   "metadata": {},
   "outputs": [],
   "source": [
    "import reflexgenerator.ingestion\n",
    "from reflexgenerator.ingestion.schemas import _mask2col, _register2col\n",
    "from pathlib import Path\n",
    "import pandas as pd\n",
    "\n",
    "converters = {v.column_name : v.converter for k, v in _register2col.items() if v.converter is not None}\n",
    "print(converters)\n",
    "\n",
    "data = pd.read_csv(\n",
    "    Path(r\"C:\\Users\\neurogears\\Documents\\git\\harptech\\automatic_code_generation\\reflex-generator\\Tests\\registers.csv\"),\n",
    "    delimiter=\",\", na_filter=True, keep_default_na=True,\n",
    "    converters=converters)\n",
    "\n",
    "data\n"
   ]
  }
 ],
 "metadata": {
  "kernelspec": {
   "display_name": "GitHarpCrawler",
   "language": "python",
   "name": "python3"
  },
  "language_info": {
   "codemirror_mode": {
    "name": "ipython",
    "version": 3
   },
   "file_extension": ".py",
   "mimetype": "text/x-python",
   "name": "python",
   "nbconvert_exporter": "python",
   "pygments_lexer": "ipython3",
   "version": "3.10.8"
  },
  "orig_nbformat": 4,
  "vscode": {
   "interpreter": {
    "hash": "31e18dbbdcef53cd4cf51b478349e0fef84e585d00f71ad27545982ad4e2cea2"
   }
  }
 },
 "nbformat": 4,
 "nbformat_minor": 2
}
