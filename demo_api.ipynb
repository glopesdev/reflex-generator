{
 "cells": [
  {
   "cell_type": "code",
   "execution_count": null,
   "metadata": {},
   "outputs": [],
   "source": [
    "from reflexgenerator.sources import HarpDataType, Register, Mask, MaskCollection, RegisterCollection"
   ]
  },
  {
   "cell_type": "code",
   "execution_count": null,
   "metadata": {},
   "outputs": [],
   "source": [
    "demo_reg = Register(\n",
    "    name=\"RegName\",\n",
    "    address=32,\n",
    "    dtype=HarpDataType.U8,\n",
    "    is_event=False,\n",
    "    mask_family=\"MaskFamily\",\n",
    "    description=\"Reg description. This is a reg.\",\n",
    "    converter=None,\n",
    "    enable_generator=True)\n",
    "\n",
    "demo_mask = Mask(\n",
    "    name=\"Poke1\",\n",
    "    mask=\"1<<0\",\n",
    "    dtype=HarpDataType.U8,\n",
    "    mask_family=\"DO\",\n",
    "    description=\"Poke1 digital output\",\n",
    "    converter=None,\n",
    "    enable_generator=True\n",
    "    )"
   ]
  },
  {
   "cell_type": "code",
   "execution_count": null,
   "metadata": {},
   "outputs": [],
   "source": [
    "demo_mask_collection = MaskCollection([demo_mask, demo_mask])\n",
    "\n",
    "demo_reg_collection = RegisterCollection([demo_reg, demo_reg])\n"
   ]
  },
  {
   "cell_type": "code",
   "execution_count": null,
   "metadata": {},
   "outputs": [],
   "source": [
    "for m in demo_mask_collection:\n",
    "    print(m)"
   ]
  }
 ],
 "metadata": {
  "kernelspec": {
   "display_name": "GitHarpCrawler",
   "language": "python",
   "name": "python3"
  },
  "language_info": {
   "codemirror_mode": {
    "name": "ipython",
    "version": 3
   },
   "file_extension": ".py",
   "mimetype": "text/x-python",
   "name": "python",
   "nbconvert_exporter": "python",
   "pygments_lexer": "ipython3",
   "version": "3.10.8"
  },
  "orig_nbformat": 4,
  "vscode": {
   "interpreter": {
    "hash": "31e18dbbdcef53cd4cf51b478349e0fef84e585d00f71ad27545982ad4e2cea2"
   }
  }
 },
 "nbformat": 4,
 "nbformat_minor": 2
}
