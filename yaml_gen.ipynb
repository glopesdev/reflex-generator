{
 "cells": [
  {
   "cell_type": "code",
   "execution_count": 16,
   "metadata": {},
   "outputs": [],
   "source": [
    "import yaml\n",
    "from yaml import Loader"
   ]
  },
  {
   "cell_type": "code",
   "execution_count": 17,
   "metadata": {},
   "outputs": [],
   "source": [
    "schema = r\"schema\\device.json\"\n",
    "fw_target = r\"schema\\example.yml\"\n"
   ]
  },
  {
   "cell_type": "code",
   "execution_count": 18,
   "metadata": {},
   "outputs": [],
   "source": [
    "def load(yml_file):\n",
    "    with open(yml_file, 'r') as stream:\n",
    "            try:\n",
    "                return yaml.load(stream, Loader)\n",
    "            except yaml.YAMLError as exception:\n",
    "                raise exception\n"
   ]
  },
  {
   "cell_type": "code",
   "execution_count": 19,
   "metadata": {},
   "outputs": [],
   "source": [
    "from reflexgenerator.sources import Register, Mask, MaskCollection, RegisterCollection\n",
    "from pathlib import Path\n",
    "import pandas as pd\n"
   ]
  },
  {
   "cell_type": "code",
   "execution_count": 20,
   "metadata": {},
   "outputs": [],
   "source": [
    "jsondata = load(fw_target)\n",
    "\n",
    "regs = RegisterCollection([Register(**reg) for reg in jsondata[\"registers\"]])\n",
    "df = pd.DataFrame([reg.to_dict() for reg in regs])\n",
    "df.fillna(\"N/A\",inplace=True)"
   ]
  },
  {
   "cell_type": "code",
   "execution_count": 21,
   "metadata": {},
   "outputs": [
    {
     "name": "stderr",
     "output_type": "stream",
     "text": [
      "C:\\Users\\neurogears\\AppData\\Local\\Temp\\ipykernel_15952\\3355800515.py:1: FutureWarning: 'showindex' is deprecated. Only 'index' will be used in a future version. Use 'index' to silence this warning.\n",
      "  df.to_markdown(\"example.md\", showindex = False)\n"
     ]
    }
   ],
   "source": [
    "df.to_markdown(\"example.md\", index=False)"
   ]
  },
  {
   "cell_type": "code",
   "execution_count": null,
   "metadata": {},
   "outputs": [],
   "source": []
  }
 ],
 "metadata": {
  "kernelspec": {
   "display_name": "GitHarpCrawler",
   "language": "python",
   "name": "python3"
  },
  "language_info": {
   "codemirror_mode": {
    "name": "ipython",
    "version": 3
   },
   "file_extension": ".py",
   "mimetype": "text/x-python",
   "name": "python",
   "nbconvert_exporter": "python",
   "pygments_lexer": "ipython3",
   "version": "3.10.8"
  },
  "orig_nbformat": 4,
  "vscode": {
   "interpreter": {
    "hash": "31e18dbbdcef53cd4cf51b478349e0fef84e585d00f71ad27545982ad4e2cea2"
   }
  }
 },
 "nbformat": 4,
 "nbformat_minor": 2
}
