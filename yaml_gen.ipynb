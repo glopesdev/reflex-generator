{
 "cells": [
  {
   "cell_type": "code",
   "execution_count": null,
   "metadata": {},
   "outputs": [],
   "source": [
    "%load_ext autoreload\n",
    "%autoreload 2\n",
    "\n",
    "import reflexgenerator.sources\n",
    "from reflexgenerator.sources import (\n",
    "    Register, Mask, PinMap, Metadata, Collection)\n",
    "from reflexgenerator.io import load\n",
    "\n",
    "from pathlib import Path\n",
    "import pandas as pd\n",
    "from reflexgenerator.generator.xref import UidReference\n"
   ]
  },
  {
   "cell_type": "code",
   "execution_count": null,
   "metadata": {},
   "outputs": [],
   "source": [
    "schema = r\"schema\\device.json\"\n",
    "fw_target = r\"schema\\example.yml\"\n"
   ]
  },
  {
   "cell_type": "code",
   "execution_count": null,
   "metadata": {},
   "outputs": [],
   "source": [
    "jsondata = load(fw_target)\n"
   ]
  },
  {
   "cell_type": "code",
   "execution_count": null,
   "metadata": {},
   "outputs": [],
   "source": [
    "metadata = Metadata(\n",
    "    **{\"device\": jsondata[\"device\"],\n",
    "    \"whoAmI\": jsondata[\"whoAmI\"],\n",
    "    \"architecture\": jsondata[\"architecture\"],\n",
    "    \"firmwareVersion\": jsondata[\"firmwareVersion\"],\n",
    "    \"hardwareTargets\": jsondata[\"hardwareTargets\"]})\n",
    "print(metadata)\n"
   ]
  },
  {
   "cell_type": "code",
   "execution_count": null,
   "metadata": {},
   "outputs": [],
   "source": [
    "# build masks\n",
    "if \"bitMasks\" in jsondata:\n",
    "    bitMasks = Collection([Mask.from_json(mask) for mask in jsondata[\"bitMasks\"].items() if mask is not None])\n",
    "    bitMasks_df = pd.DataFrame([mask.to_dict() for mask in bitMasks])\n",
    "    bitMasks_df.head(5)\n",
    "else:\n",
    "    bitMasks = None\n",
    "    bitMasks_df = None\n",
    "\n",
    "if \"groupMask\" in jsondata:\n",
    "    groupMasks = Collection([Mask.from_json(mask) for mask in jsondata[\"groupMask\"].items() if mask is not None])\n",
    "    groupMasks_df = pd.DataFrame([mask.to_dict() for mask in groupMasks])\n",
    "    groupMasks_df.head(5)\n",
    "else:\n",
    "    groupMasks = None\n",
    "    groupMasks_df = None"
   ]
  },
  {
   "cell_type": "code",
   "execution_count": null,
   "metadata": {},
   "outputs": [],
   "source": [
    "if \"registers\" in jsondata:\n",
    "    regs = Collection([Register.from_json(reg) for reg in jsondata[\"registers\"].items() if reg is not None])\n",
    "    register_df = pd.DataFrame([reg.to_dict() for reg in regs])\n",
    "    register_df.head(5)\n",
    "else:\n",
    "    regs = None\n",
    "    register_df = None"
   ]
  },
  {
   "cell_type": "code",
   "execution_count": null,
   "metadata": {},
   "outputs": [],
   "source": [
    "if \"ios\" in jsondata:\n",
    "    pinMapping = Collection([PinMap.from_json(pinmap) for pinmap in jsondata[\"ios\"].items() if pinmap is not None])\n",
    "    pinMapping_df = pd.DataFrame([pinmap.to_dict() for pinmap in pinMapping])\n",
    "    pinMapping_df.head(5)\n",
    "else:\n",
    "    pinMapping = None\n",
    "    pinMapping_df = None"
   ]
  },
  {
   "cell_type": "code",
   "execution_count": null,
   "metadata": {},
   "outputs": [],
   "source": [
    "register_df_copy = register_df.copy()\n",
    "for i in register_df_copy.index:\n",
    "    if register_df_copy.at[i, 'maskType']:\n",
    "        if isinstance(register_df_copy.at[i, 'maskType'][0], Mask):\n",
    "            register_df_copy.at[i, 'maskType'] = [x.uid.render_pointer() for x in register_df_copy.at[i, 'maskType']]\n",
    "\n",
    "bitMasks_df_copy = bitMasks_df.copy()\n",
    "for i in bitMasks_df_copy.index:\n",
    "    bitMasks_df_copy.at[i, 'name'] = bitMasks_df_copy.at[i, 'uid'].render_pointer()\n",
    "\n",
    "groupMasks_df_copy = groupMasks_df.copy() if groupMasks_df is not None else pd.DataFrame()\n",
    "for i in groupMasks_df_copy.index:\n",
    "    groupMasks_df_copy.at[i, 'name'] = groupMasks_df_copy.at[i, 'uid'].render_pointer()\n"
   ]
  },
  {
   "cell_type": "code",
   "execution_count": null,
   "metadata": {},
   "outputs": [],
   "source": [
    "def register_formater(reg: Register) -> str:\n",
    "    _param_text = (\"\".join([f\"\"\" \\t - {k} = {v} \\n\"\"\" for k,v in reg.to_dict().items() if k not in [\"uid\", \"name\"]]))\n",
    "    return f\"\"\"### {reg.name}\\n{_param_text}\"\"\"\n",
    "\n",
    "def Mask_formater(mask: Mask) -> str:\n",
    "    _param_text = (\"\".join([f\"\"\" \\t - {k} = {v} \\n\"\"\" for k,v in mask.to_dict().items() if k not in [\"uid\", \"name\"]]))\n",
    "    return f\"\"\"### {mask.name}\\n{_param_text}\"\"\""
   ]
  },
  {
   "cell_type": "code",
   "execution_count": null,
   "metadata": {},
   "outputs": [],
   "source": [
    "metadata_format = (\"\".join([f'''<font size=\"4\"> - {k}: {v} </font> \\n\\n''' for k,v in metadata.to_dict().items() if k != \"uid\"]))\n",
    "\n",
    "txt = f\"\"\"\n",
    "\n",
    "# Device\n",
    "\n",
    "{metadata_format}\n",
    "--------\n",
    "\n",
    "# Registers\n",
    "\n",
    "## Summary table\n",
    "{register_df_copy.to_markdown()}\n",
    "\n",
    "## Technical documentation\n",
    "{\"\".join([register_formater(reg) for reg in regs])}\n",
    "--------\n",
    "\n",
    "# BitMasks\n",
    "\n",
    "## Summary table\n",
    "{bitMasks_df_copy.to_markdown()}\n",
    "\n",
    "## Technical documentation\n",
    "{\"\".join([Mask_formater(mask) for mask in bitMasks])}\n",
    "--------\n",
    "\n",
    "# IOs\n",
    "\n",
    "{pinMapping_df.to_markdown()}\n",
    "\n",
    "\n",
    "\"\"\"\n",
    "\n",
    "\n",
    "\n",
    "\n",
    "\n"
   ]
  },
  {
   "cell_type": "code",
   "execution_count": null,
   "metadata": {},
   "outputs": [],
   "source": [
    "with open(\"documentation.md\", \"w\") as text_file:\n",
    "    text_file.write(txt)\n",
    "\n",
    "import markdown\n",
    "with open(\"documentation.html\", \"w\") as text_file:\n",
    "    text_file.write(markdown.markdown(txt))"
   ]
  }
 ],
 "metadata": {
  "kernelspec": {
   "display_name": "GitHarpCrawler",
   "language": "python",
   "name": "python3"
  },
  "language_info": {
   "codemirror_mode": {
    "name": "ipython",
    "version": 3
   },
   "file_extension": ".py",
   "mimetype": "text/x-python",
   "name": "python",
   "nbconvert_exporter": "python",
   "pygments_lexer": "ipython3",
   "version": "3.10.8"
  },
  "orig_nbformat": 4,
  "vscode": {
   "interpreter": {
    "hash": "31e18dbbdcef53cd4cf51b478349e0fef84e585d00f71ad27545982ad4e2cea2"
   }
  }
 },
 "nbformat": 4,
 "nbformat_minor": 2
}
