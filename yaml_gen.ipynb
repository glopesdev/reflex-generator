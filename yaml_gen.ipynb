{
 "cells": [
  {
   "cell_type": "code",
   "execution_count": null,
   "metadata": {},
   "outputs": [],
   "source": [
    "from mergedeep import merge\n",
    "import reflexgenerator.sources\n",
    "from reflexgenerator.sources import (\n",
    "    Register,\n",
    "    Mask,\n",
    "    PinMap_from_json,\n",
    "    Metadata,\n",
    "    Collection,\n",
    "    DeviceSchema)\n",
    "from reflexgenerator.io import load\n",
    "\n",
    "from pathlib import Path\n",
    "import pandas as pd\n",
    "from reflexgenerator.generator.xref import UidReference\n"
   ]
  },
  {
   "cell_type": "code",
   "execution_count": null,
   "metadata": {},
   "outputs": [],
   "source": [
    "Schema = DeviceSchema.from_remote_yml(device_url=\"https://raw.githubusercontent.com/harp-tech/device.behavior/master/device.yml\")\n",
    "df = Schema.to_dataframe()"
   ]
  },
  {
   "cell_type": "code",
   "execution_count": null,
   "metadata": {},
   "outputs": [],
   "source": [
    "txt = f\"\"\"\n",
    "\n",
    "# Device\n",
    "\n",
    "{Schema.metadata.format_dict()}\n",
    "--------\n",
    "\n",
    "# Registers\n",
    "\n",
    "## Summary table\n",
    "{reflexgenerator.generator.format_table(df.registers)}\n",
    "\n",
    "## Technical documentation\n",
    "{\"\".join([reg.format_dict() for reg in Schema.registers])}\n",
    "--------\n",
    "\n",
    "# BitMasks\n",
    "\n",
    "## Summary table\n",
    "{reflexgenerator.generator.format_table(df.bitMasks)}\n",
    "\n",
    "## Technical documentation\n",
    "{\"\".join([mask.format_dict() for mask in Schema.bitMasks])}\n",
    "\n",
    "# GroupMasks\n",
    "\n",
    "## Summary table\n",
    "{reflexgenerator.generator.format_table(df.groupMasks)}\n",
    "\n",
    "## Technical documentation\n",
    "{\"\".join([mask.format_dict() for mask in Schema.groupMasks])}\n",
    "\n",
    "--------\n",
    "# PayloadMembers\n",
    "\n",
    "## Summary table\n",
    "{reflexgenerator.generator.format_table(df.payloadMembers)}\n",
    "\n",
    "## Technical documentation\n",
    "{\"\".join([payloadMember.format_dict() for payloadMember in Schema.payloadMembers])}\n",
    "\n",
    "\n",
    "## References\n",
    "{reflexgenerator.sources.PayloadType.format_anchor_references()}\n",
    "\n",
    "{reflexgenerator.sources.AccessType.format_anchor_references()}\n",
    "\n",
    "{reflexgenerator.sources.VisibilityType.format_anchor_references()}\n",
    "\n",
    "{reflexgenerator.sources.MaskCategory.format_anchor_references()}\n",
    "\n",
    "\"\"\""
   ]
  },
  {
   "cell_type": "code",
   "execution_count": null,
   "metadata": {},
   "outputs": [],
   "source": [
    "with open(\"demo_docs\\documentation.md\", \"w\") as text_file:\n",
    "    text_file.write(txt)\n",
    "\n",
    "import markdown\n",
    "with open(\"demo_docs\\documentation.html\", \"w\") as text_file:\n",
    "    text_file.write(markdown.markdown(txt, tab_length=4, extensions=['extra', 'smarty', 'sane_lists']))"
   ]
  }
 ],
 "metadata": {
  "kernelspec": {
   "display_name": "GitHarpCrawler",
   "language": "python",
   "name": "python3"
  },
  "language_info": {
   "codemirror_mode": {
    "name": "ipython",
    "version": 3
   },
   "file_extension": ".py",
   "mimetype": "text/x-python",
   "name": "python",
   "nbconvert_exporter": "python",
   "pygments_lexer": "ipython3",
   "version": "3.10.8"
  },
  "orig_nbformat": 4,
  "vscode": {
   "interpreter": {
    "hash": "31e18dbbdcef53cd4cf51b478349e0fef84e585d00f71ad27545982ad4e2cea2"
   }
  }
 },
 "nbformat": 4,
 "nbformat_minor": 2
}
