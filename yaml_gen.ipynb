{
 "cells": [
  {
   "cell_type": "code",
   "execution_count": null,
   "metadata": {},
   "outputs": [],
   "source": [
    "import yaml\n",
    "from yaml import Loader"
   ]
  },
  {
   "cell_type": "code",
   "execution_count": null,
   "metadata": {},
   "outputs": [],
   "source": [
    "schema = r\"schema\\device.json\"\n",
    "fw_target = r\"schema\\example.yml\"\n"
   ]
  },
  {
   "cell_type": "code",
   "execution_count": null,
   "metadata": {},
   "outputs": [],
   "source": [
    "def load(yml_file):\n",
    "    with open(yml_file, 'r') as stream:\n",
    "            try:\n",
    "                return yaml.load(stream, Loader)\n",
    "            except yaml.YAMLError as exception:\n",
    "                raise exception\n"
   ]
  },
  {
   "cell_type": "code",
   "execution_count": null,
   "metadata": {},
   "outputs": [],
   "source": [
    "import reflexgenerator.sources\n",
    "from reflexgenerator.sources import (\n",
    "    Register, BitMask, Bit, IOElement, Metadata, Collection)\n",
    "from pathlib import Path\n",
    "import pandas as pd\n"
   ]
  },
  {
   "cell_type": "code",
   "execution_count": null,
   "metadata": {},
   "outputs": [],
   "source": [
    "jsondata = load(fw_target)\n"
   ]
  },
  {
   "cell_type": "code",
   "execution_count": null,
   "metadata": {},
   "outputs": [],
   "source": [
    "metadata = Metadata(\n",
    "    device=jsondata[\"device\"],\n",
    "    whoAmI=jsondata[\"whoAmI\"],\n",
    "    architecture=jsondata[\"architecture\"],\n",
    "    firmwareVersion=jsondata[\"firmwareVersion\"],\n",
    "    hardwareVersion=jsondata[\"hardwareVersion\"])\n",
    "print(metadata)"
   ]
  },
  {
   "cell_type": "code",
   "execution_count": null,
   "metadata": {},
   "outputs": [],
   "source": [
    "# build masks\n",
    "masks = Collection([BitMask(**mask) for mask in jsondata[\"masks\"]])\n",
    "masks_df = pd.DataFrame([mask.to_dict() for mask in masks])\n",
    "masks_df.fillna(\"N/A\",inplace=True)\n",
    "masks_df.head(5)\n"
   ]
  },
  {
   "cell_type": "code",
   "execution_count": null,
   "metadata": {},
   "outputs": [],
   "source": [
    "# build registers\n",
    "regs = Collection([Register(**reg) for reg in jsondata[\"registers\"]])\n",
    "register_df = pd.DataFrame([reg.to_dict() for reg in regs])\n",
    "register_df.fillna(\"N/A\",inplace=True)\n",
    "register_df.head(5)"
   ]
  },
  {
   "cell_type": "code",
   "execution_count": null,
   "metadata": {},
   "outputs": [],
   "source": [
    "ios = Collection([IOElement(**io) for io in jsondata[\"ios\"]])\n",
    "ios_df = pd.DataFrame([io.to_dict() for io in ios])\n",
    "ios_df.fillna(\"N/A\",inplace=True)\n",
    "ios_df.head(5)"
   ]
  },
  {
   "cell_type": "code",
   "execution_count": null,
   "metadata": {},
   "outputs": [],
   "source": []
  }
 ],
 "metadata": {
  "kernelspec": {
   "display_name": "GitHarpCrawler",
   "language": "python",
   "name": "python3"
  },
  "language_info": {
   "codemirror_mode": {
    "name": "ipython",
    "version": 3
   },
   "file_extension": ".py",
   "mimetype": "text/x-python",
   "name": "python",
   "nbconvert_exporter": "python",
   "pygments_lexer": "ipython3",
   "version": "3.10.8"
  },
  "orig_nbformat": 4,
  "vscode": {
   "interpreter": {
    "hash": "31e18dbbdcef53cd4cf51b478349e0fef84e585d00f71ad27545982ad4e2cea2"
   }
  }
 },
 "nbformat": 4,
 "nbformat_minor": 2
}
