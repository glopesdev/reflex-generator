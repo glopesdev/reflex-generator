{
 "cells": [
  {
   "cell_type": "code",
   "execution_count": 1,
   "metadata": {},
   "outputs": [],
   "source": [
    "\n",
    "import reflexgenerator.sources\n",
    "from reflexgenerator.sources import (\n",
    "    Register, Mask, PinMap_from_json, Metadata, Collection)\n",
    "from reflexgenerator.io import load\n",
    "\n",
    "from pathlib import Path\n",
    "import pandas as pd\n",
    "from reflexgenerator.generator.xref import UidReference, make_anchor, create_link, filter_refs_by_type\n"
   ]
  },
  {
   "cell_type": "code",
   "execution_count": 2,
   "metadata": {},
   "outputs": [],
   "source": [
    "fw_target = r\"schema\\example.yml\"\n",
    "io_target = r\"schema\\ios.yml\""
   ]
  },
  {
   "cell_type": "code",
   "execution_count": 3,
   "metadata": {},
   "outputs": [],
   "source": [
    "device = load(fw_target)\n",
    "ios = load(io_target)"
   ]
  },
  {
   "cell_type": "code",
   "execution_count": 4,
   "metadata": {},
   "outputs": [
    {
     "name": "stdout",
     "output_type": "stream",
     "text": [
      "Metadata(device='ExampleDevice', whoAmI=0, firmwareVersion='0.1', hardwareTargets='0.1', architecture='atmega', uid=ref-Device-Metadata-ExampleDevice_0)\n"
     ]
    }
   ],
   "source": [
    "metadata = Metadata(\n",
    "    **{\"device\": device[\"device\"],\n",
    "    \"whoAmI\": device[\"whoAmI\"],\n",
    "    \"architecture\": device[\"architecture\"],\n",
    "    \"firmwareVersion\": device[\"firmwareVersion\"],\n",
    "    \"hardwareTargets\": device[\"hardwareTargets\"]})\n",
    "print(metadata)\n"
   ]
  },
  {
   "cell_type": "code",
   "execution_count": 5,
   "metadata": {},
   "outputs": [],
   "source": [
    "# build masks\n",
    "if \"bitMasks\" in device:\n",
    "    bitMasks = Collection([Mask.from_json(mask) for mask in device[\"bitMasks\"].items() if mask is not None])\n",
    "    bitMasks_df = pd.DataFrame([mask.to_dict() for mask in bitMasks])\n",
    "    bitMasks_df[\"name\"] = bitMasks_df[\"uid\"].apply(lambda x: (x.render_pointer()))\n",
    "    bitMasks_df[\"bits\"] = bitMasks_df[\"bits\"].apply(lambda x: [bit.value for bit in x if bit is not None] if x is not None else None)\n",
    "    bitMasks_df.head(5)\n",
    "else:\n",
    "    bitMasks = None\n",
    "    bitMasks_df = pd.DataFrame()\n",
    "\n",
    "if \"groupMask\" in device:\n",
    "    groupMasks = Collection([Mask.from_json(mask) for mask in device[\"groupMask\"].items() if mask is not None])\n",
    "    groupMasks_df = pd.DataFrame([mask.to_dict() for mask in groupMasks])\n",
    "    groupMasks_df[\"name\"] = groupMasks_df[\"uid\"].apply(lambda x: (x.render_pointer()))\n",
    "    bitMasks_df[\"value\"] = bitMasks_df[\"value\"].apply(lambda x: [bit.value for bit in x if bit is not None] if x is not None else None)\n",
    "    groupMasks_df.head(5)\n",
    "else:\n",
    "    groupMasks = None\n",
    "    groupMasks_df = pd.DataFrame()\n",
    "\n",
    "## Create deep copies to manipulate\n",
    "bitMasks_df_copy = bitMasks_df.copy() if groupMasks_df is not None else pd.DataFrame()\n",
    "groupMasks_df_copy = groupMasks_df.copy() if groupMasks_df is not None else pd.DataFrame()\n"
   ]
  },
  {
   "cell_type": "code",
   "execution_count": 6,
   "metadata": {},
   "outputs": [],
   "source": [
    "# build registers\n",
    "if \"registers\" in device:\n",
    "    regs = Collection([Register.from_json(reg) for reg in device[\"registers\"].items() if reg is not None])\n",
    "    register_df = pd.DataFrame([reg.to_dict() for reg in regs])\n",
    "    register_df[\"name\"] = register_df[\"uid\"].apply(lambda x: (x.render_pointer()))\n",
    "    register_df.head(5)\n",
    "else:\n",
    "    regs = None\n",
    "    register_df = pd.DataFrame()\n",
    "\n",
    "\n",
    "register_df_copy = register_df.copy()\n",
    "\n",
    "for i in register_df_copy.index:\n",
    "    if register_df_copy.at[i, 'maskType'] is not None:\n",
    "        if isinstance(register_df_copy.at[i, 'maskType'][0], reflexgenerator.sources.Mask):\n",
    "            register_df_copy.at[i, 'maskType'] = [x.uid.render_pointer() for x in register_df_copy.at[i, 'maskType']]\n",
    "    if register_df_copy.at[i, 'payloadSpec'] is not None:\n",
    "            if isinstance(register_df_copy.at[i, 'payloadSpec'][0], reflexgenerator.sources.PayloadMember):\n",
    "                register_df_copy.at[i, 'payloadSpec'] = [x.uid.render_pointer() for x in register_df_copy.at[i, 'payloadSpec']]"
   ]
  },
  {
   "cell_type": "code",
   "execution_count": 7,
   "metadata": {},
   "outputs": [],
   "source": [
    "#Build payload members\n",
    "payloadMembers = Collection([entry.parent for entry in filter_refs_by_type(reflexgenerator.sources.PayloadMember).values()])\n",
    "payloadMembers_df = pd.DataFrame([payloadMember.to_dict() for payloadMember in payloadMembers])\n",
    "payloadMembers_df[\"name\"] = payloadMembers_df[\"uid\"].apply(lambda x: (x.render_pointer()))\n",
    "\n",
    "#deep copy\n",
    "payloadMembers_df_copy = payloadMembers_df.copy() if payloadMembers_df is not None else pd.DataFrame()"
   ]
  },
  {
   "cell_type": "code",
   "execution_count": 8,
   "metadata": {},
   "outputs": [],
   "source": [
    "#Build IOs\n",
    "pinMapping = Collection([PinMap_from_json(pinmap) for pinmap in ios.items() if pinmap is not None])\n",
    "pinMapping_df = pd.DataFrame([pinmap.to_dict() for pinmap in pinMapping])\n",
    "pinMapping_df[\"name\"] = pinMapping_df[\"uid\"].apply(lambda x: (x.render_pointer()))\n"
   ]
  },
  {
   "cell_type": "code",
   "execution_count": 9,
   "metadata": {},
   "outputs": [],
   "source": [
    "txt = f\"\"\"\n",
    "\n",
    "# Device\n",
    "\n",
    "{metadata.format_dict()}\n",
    "--------\n",
    "\n",
    "# Registers\n",
    "\n",
    "## Summary table\n",
    "{reflexgenerator.generator.format_table(register_df_copy)}\n",
    "\n",
    "## Technical documentation\n",
    "{\"\".join([reg.format_dict() for reg in regs])}\n",
    "--------\n",
    "\n",
    "# BitMasks\n",
    "\n",
    "## Summary table\n",
    "{reflexgenerator.generator.format_table(bitMasks_df_copy)}\n",
    "\n",
    "## Technical documentation\n",
    "{\"\".join([mask.format_dict() for mask in bitMasks])}\n",
    "--------\n",
    "# PayloadMembers\n",
    "\n",
    "## Summary table\n",
    "{reflexgenerator.generator.format_table(payloadMembers_df_copy)}\n",
    "\n",
    "## Technical documentation\n",
    "{\"\".join([payloadMember.format_dict() for payloadMember in payloadMembers])}\n",
    "\n",
    "# IOs\n",
    "{reflexgenerator.generator.format_table(pinMapping_df)}\n",
    "\n",
    "## Technical documentation\n",
    "{\"\".join([pin.format_dict() for pin in pinMapping])}\n",
    "\n",
    "\n",
    "## References\n",
    "{reflexgenerator.sources.PayloadType.format_anchor_references()}\n",
    "\n",
    "{reflexgenerator.sources.RegisterType.format_anchor_references()}\n",
    "\n",
    "{reflexgenerator.sources.VisibilityType.format_anchor_references()}\n",
    "\n",
    "{reflexgenerator.sources.MaskCategory.format_anchor_references()}\n",
    "\n",
    "{reflexgenerator.sources.DirectionType.format_anchor_references()}\n",
    "\n",
    "{reflexgenerator.sources.InputPinModeType.format_anchor_references()}\n",
    "\n",
    "{reflexgenerator.sources.TriggerModeType.format_anchor_references()}\n",
    "\n",
    "{reflexgenerator.sources.InterruptPriorityType.format_anchor_references()}\n",
    "\n",
    "{reflexgenerator.sources.OutputPinModeType.format_anchor_references()}\n",
    "\n",
    "{reflexgenerator.sources.InitialStateType.format_anchor_references()}\n",
    "\n",
    "\"\"\""
   ]
  },
  {
   "cell_type": "code",
   "execution_count": 10,
   "metadata": {},
   "outputs": [],
   "source": [
    "with open(\"demo_docs\\documentation.md\", \"w\") as text_file:\n",
    "    text_file.write(txt)\n",
    "\n",
    "import markdown\n",
    "with open(\"demo_docs\\documentation.html\", \"w\") as text_file:\n",
    "    text_file.write(markdown.markdown(txt, tab_length=4, extensions=['extra', 'smarty', 'sane_lists']))"
   ]
  }
 ],
 "metadata": {
  "kernelspec": {
   "display_name": "GitHarpCrawler",
   "language": "python",
   "name": "python3"
  },
  "language_info": {
   "codemirror_mode": {
    "name": "ipython",
    "version": 3
   },
   "file_extension": ".py",
   "mimetype": "text/x-python",
   "name": "python",
   "nbconvert_exporter": "python",
   "pygments_lexer": "ipython3",
   "version": "3.10.8"
  },
  "orig_nbformat": 4,
  "vscode": {
   "interpreter": {
    "hash": "31e18dbbdcef53cd4cf51b478349e0fef84e585d00f71ad27545982ad4e2cea2"
   }
  }
 },
 "nbformat": 4,
 "nbformat_minor": 2
}
