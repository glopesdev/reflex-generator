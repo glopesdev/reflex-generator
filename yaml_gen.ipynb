{
 "cells": [
  {
   "cell_type": "code",
   "execution_count": 1,
   "metadata": {},
   "outputs": [],
   "source": [
    "\n",
    "import reflexgenerator.sources\n",
    "from reflexgenerator.sources import (\n",
    "    Register, Mask, PinMap_from_json, Metadata, Collection)\n",
    "from reflexgenerator.io import load\n",
    "\n",
    "from pathlib import Path\n",
    "import pandas as pd\n",
    "from reflexgenerator.generator.xref import UidReference, make_anchor, create_link, filter_refs_by_type\n"
   ]
  },
  {
   "cell_type": "code",
   "execution_count": 2,
   "metadata": {},
   "outputs": [],
   "source": [
    "fw_target = r\"schema\\example.yml\"\n",
    "io_target = r\"schema\\ios.yml\""
   ]
  },
  {
   "cell_type": "code",
   "execution_count": 3,
   "metadata": {},
   "outputs": [],
   "source": [
    "device = load(fw_target)\n",
    "ios = load(io_target)"
   ]
  },
  {
   "cell_type": "code",
   "execution_count": 4,
   "metadata": {},
   "outputs": [
    {
     "name": "stdout",
     "output_type": "stream",
     "text": [
      "Metadata(device='ExampleDevice', whoAmI=0, firmwareVersion='0.1', hardwareTargets='0.1', architecture='atmega', uid=ref-Device-Metadata-ExampleDevice_0)\n"
     ]
    }
   ],
   "source": [
    "metadata = Metadata(\n",
    "    **{\"device\": device[\"device\"],\n",
    "    \"whoAmI\": device[\"whoAmI\"],\n",
    "    \"architecture\": device[\"architecture\"],\n",
    "    \"firmwareVersion\": device[\"firmwareVersion\"],\n",
    "    \"hardwareTargets\": device[\"hardwareTargets\"]})\n",
    "print(metadata)\n"
   ]
  },
  {
   "cell_type": "code",
   "execution_count": 5,
   "metadata": {},
   "outputs": [],
   "source": [
    "# build masks\n",
    "if \"bitMasks\" in device:\n",
    "    bitMasks = Collection([Mask.from_json(mask) for mask in device[\"bitMasks\"].items() if mask is not None])\n",
    "    bitMasks_df = pd.DataFrame([mask.to_dict() for mask in bitMasks])\n",
    "    bitMasks_df.head(5)\n",
    "else:\n",
    "    bitMasks = None\n",
    "    bitMasks_df = pd.DataFrame()\n",
    "\n",
    "if \"groupMask\" in device:\n",
    "    groupMasks = Collection([Mask.from_json(mask) for mask in device[\"groupMask\"].items() if mask is not None])\n",
    "    groupMasks_df = pd.DataFrame([mask.to_dict() for mask in groupMasks])\n",
    "    groupMasks_df.head(5)\n",
    "else:\n",
    "    groupMasks = None\n",
    "    groupMasks_df = pd.DataFrame()"
   ]
  },
  {
   "cell_type": "code",
   "execution_count": 7,
   "metadata": {},
   "outputs": [],
   "source": [
    "if \"registers\" in device:\n",
    "    regs = Collection([Register.from_json(reg) for reg in device[\"registers\"].items() if reg is not None])\n",
    "    register_df = pd.DataFrame([reg.to_dict() for reg in regs])\n",
    "    register_df.head(5)\n",
    "else:\n",
    "    regs = None\n",
    "    register_df = pd.DataFrame()"
   ]
  },
  {
   "cell_type": "code",
   "execution_count": 8,
   "metadata": {},
   "outputs": [
    {
     "data": {
      "text/html": [
       "<div>\n",
       "<style scoped>\n",
       "    .dataframe tbody tr th:only-of-type {\n",
       "        vertical-align: middle;\n",
       "    }\n",
       "\n",
       "    .dataframe tbody tr th {\n",
       "        vertical-align: top;\n",
       "    }\n",
       "\n",
       "    .dataframe thead th {\n",
       "        text-align: right;\n",
       "    }\n",
       "</style>\n",
       "<table border=\"1\" class=\"dataframe\">\n",
       "  <thead>\n",
       "    <tr style=\"text-align: right;\">\n",
       "      <th></th>\n",
       "      <th>name</th>\n",
       "      <th>port</th>\n",
       "      <th>pinNumber</th>\n",
       "      <th>direction</th>\n",
       "      <th>pinMode</th>\n",
       "      <th>triggerMode</th>\n",
       "      <th>interruptPriority</th>\n",
       "      <th>interruptNumber</th>\n",
       "      <th>description</th>\n",
       "      <th>uid</th>\n",
       "      <th>allowRead</th>\n",
       "      <th>initialState</th>\n",
       "      <th>invert</th>\n",
       "    </tr>\n",
       "  </thead>\n",
       "  <tbody>\n",
       "    <tr>\n",
       "      <th>0</th>\n",
       "      <td>Lick0</td>\n",
       "      <td>PORTA</td>\n",
       "      <td>0</td>\n",
       "      <td>[input](#ref-DirectionType-input)</td>\n",
       "      <td>[tristate](#ref-InputPinModeType-tristate)</td>\n",
       "      <td>[toggle](#ref-TriggerModeType-toggle)</td>\n",
       "      <td>[low](#ref-InterruptPriorityType-low)</td>\n",
       "      <td>0.0</td>\n",
       "      <td>Input for the Lick 0.</td>\n",
       "      <td>ref-Device-InputPin-Lick0</td>\n",
       "      <td>NaN</td>\n",
       "      <td>NaN</td>\n",
       "      <td>NaN</td>\n",
       "    </tr>\n",
       "    <tr>\n",
       "      <th>1</th>\n",
       "      <td>Lick1</td>\n",
       "      <td>PORTA</td>\n",
       "      <td>1</td>\n",
       "      <td>[input](#ref-DirectionType-input)</td>\n",
       "      <td>[tristate](#ref-InputPinModeType-tristate)</td>\n",
       "      <td>[toggle](#ref-TriggerModeType-toggle)</td>\n",
       "      <td>[low](#ref-InterruptPriorityType-low)</td>\n",
       "      <td>1.0</td>\n",
       "      <td>Input for the Lick 1.</td>\n",
       "      <td>ref-Device-InputPin-Lick1</td>\n",
       "      <td>NaN</td>\n",
       "      <td>NaN</td>\n",
       "      <td>NaN</td>\n",
       "    </tr>\n",
       "    <tr>\n",
       "      <th>2</th>\n",
       "      <td>Valve0</td>\n",
       "      <td>PORTA</td>\n",
       "      <td>6</td>\n",
       "      <td>[output](#ref-DirectionType-output)</td>\n",
       "      <td>[wiredOr](#ref-OutputPinModeType-wiredOr)</td>\n",
       "      <td>NaN</td>\n",
       "      <td>NaN</td>\n",
       "      <td>NaN</td>\n",
       "      <td>Controls the transistor of Valve 0.</td>\n",
       "      <td>ref-Device-OutputPin-Valve0</td>\n",
       "      <td>False</td>\n",
       "      <td>[low](#ref-InitialStateType-low)</td>\n",
       "      <td>False</td>\n",
       "    </tr>\n",
       "  </tbody>\n",
       "</table>\n",
       "</div>"
      ],
      "text/plain": [
       "     name   port  pinNumber                            direction  \\\n",
       "0   Lick0  PORTA          0    [input](#ref-DirectionType-input)   \n",
       "1   Lick1  PORTA          1    [input](#ref-DirectionType-input)   \n",
       "2  Valve0  PORTA          6  [output](#ref-DirectionType-output)   \n",
       "\n",
       "                                      pinMode  \\\n",
       "0  [tristate](#ref-InputPinModeType-tristate)   \n",
       "1  [tristate](#ref-InputPinModeType-tristate)   \n",
       "2   [wiredOr](#ref-OutputPinModeType-wiredOr)   \n",
       "\n",
       "                             triggerMode  \\\n",
       "0  [toggle](#ref-TriggerModeType-toggle)   \n",
       "1  [toggle](#ref-TriggerModeType-toggle)   \n",
       "2                                    NaN   \n",
       "\n",
       "                       interruptPriority  interruptNumber  \\\n",
       "0  [low](#ref-InterruptPriorityType-low)              0.0   \n",
       "1  [low](#ref-InterruptPriorityType-low)              1.0   \n",
       "2                                    NaN              NaN   \n",
       "\n",
       "                           description                          uid allowRead  \\\n",
       "0                Input for the Lick 0.    ref-Device-InputPin-Lick0       NaN   \n",
       "1                Input for the Lick 1.    ref-Device-InputPin-Lick1       NaN   \n",
       "2  Controls the transistor of Valve 0.  ref-Device-OutputPin-Valve0     False   \n",
       "\n",
       "                       initialState invert  \n",
       "0                               NaN    NaN  \n",
       "1                               NaN    NaN  \n",
       "2  [low](#ref-InitialStateType-low)  False  "
      ]
     },
     "execution_count": 8,
     "metadata": {},
     "output_type": "execute_result"
    }
   ],
   "source": [
    "pinMapping = Collection([PinMap_from_json(pinmap) for pinmap in ios.items() if pinmap is not None])\n",
    "pinMapping_df = pd.DataFrame([pinmap.to_dict() for pinmap in pinMapping])\n",
    "pinMapping_df.head(5)\n"
   ]
  },
  {
   "cell_type": "code",
   "execution_count": null,
   "metadata": {},
   "outputs": [],
   "source": [
    "payloadMembers = Collection(list(filter_refs_by_type(reflexgenerator.sources.PayloadMember).values()))\n",
    "payloadMembers_df = pd.DataFrame([payloadMember.parent.to_dict() for payloadMember in payloadMembers])\n",
    "payloadMembers_df.head(5)"
   ]
  },
  {
   "cell_type": "code",
   "execution_count": 20,
   "metadata": {},
   "outputs": [],
   "source": [
    "register_df_copy = register_df.copy()\n",
    "for i in register_df_copy.index:\n",
    "    if register_df_copy.at[i, 'maskType']:\n",
    "        if isinstance(register_df_copy.at[i, 'maskType'][0], Mask):\n",
    "            register_df_copy.at[i, 'maskType'] = [x.uid.render_pointer() for x in register_df_copy.at[i, 'maskType']]\n",
    "\n",
    "bitMasks_df_copy = bitMasks_df.copy()\n",
    "for i in bitMasks_df_copy.index:\n",
    "    bitMasks_df_copy.at[i, 'name'] = bitMasks_df_copy.at[i, 'uid'].render_pointer()\n",
    "\n",
    "groupMasks_df_copy = groupMasks_df.copy() if groupMasks_df is not None else pd.DataFrame()\n",
    "for i in groupMasks_df_copy.index:\n",
    "    groupMasks_df_copy.at[i, 'name'] = groupMasks_df_copy.at[i, 'uid'].render_pointer()\n",
    "\n",
    "payloadMembers_df_copy = payloadMembers_df.copy() if payloadMembers_df is not None else pd.DataFrame()\n",
    "for i in payloadMembers_df_copy.index:\n",
    "    payloadMembers_df_copy.at[i, 'name'] = payloadMembers_df_copy.at[i, 'uid'].render_pointer()\n"
   ]
  },
  {
   "cell_type": "code",
   "execution_count": 21,
   "metadata": {},
   "outputs": [],
   "source": [
    "def register_formater(reg: Register) -> str:\n",
    "    _param_text = (\"\".join([f\"\"\"> {k} = {v} \\n\\n\"\"\" for k,v in reg.to_dict().items() if k not in [\"uid\", \"name\"]]))\n",
    "    return f\"\"\"### {reg.name}\\n{_param_text}\"\"\"\n",
    "\n",
    "def Mask_formater(mask: Mask) -> str:\n",
    "    _param_text = (\"\".join([f\"\"\"> {k} = {v} \\n\\n\"\"\" for k,v in mask.to_dict().items() if k not in [\"uid\", \"name\"]]))\n",
    "    return f\"\"\"### {mask.name}\\n{_param_text}\"\"\"\n",
    "\n",
    "def payloadMember_formater(payloadMember: reflexgenerator.sources.PayloadMember) -> str:\n",
    "    _param_text = (\"\".join([f\"\"\"> {k} = {v} \\n\\n\"\"\" for k,v in payloadMember.parent.to_dict().items() if k not in [\"uid\", \"name\"]]))\n",
    "    return f\"\"\"### {payloadMember.parent.name}\\n{_param_text}\"\"\"\n",
    "\n",
    "def format_table(df: pd.DataFrame) -> str:\n",
    "    return df.loc[:, df.columns != \"uid\"].to_markdown(index=False, tablefmt=\"pipe\")"
   ]
  },
  {
   "cell_type": "code",
   "execution_count": 22,
   "metadata": {},
   "outputs": [],
   "source": [
    "metadata_format = (\"\".join([f'''<font size=\"4\"> - {k}: {v} </font> \\n\\n''' for k,v in metadata.to_dict().items() if k != \"uid\"]))\n",
    "\n",
    "txt = f\"\"\"\n",
    "\n",
    "# Device\n",
    "\n",
    "{metadata_format}\n",
    "--------\n",
    "\n",
    "# Registers\n",
    "\n",
    "## Summary table\n",
    "{format_table(register_df_copy)}\n",
    "\n",
    "## Technical documentation\n",
    "{\"\".join([register_formater(reg) for reg in regs])}\n",
    "--------\n",
    "\n",
    "# BitMasks\n",
    "\n",
    "## Summary table\n",
    "{format_table(bitMasks_df_copy)}\n",
    "\n",
    "## Technical documentation\n",
    "{\"\".join([Mask_formater(mask) for mask in bitMasks])}\n",
    "--------\n",
    "# PayloadMembers\n",
    "\n",
    "## Summary table\n",
    "{format_table(payloadMembers_df_copy)}\n",
    "\n",
    "## Technical documentation\n",
    "{\"\".join([payloadMember_formater(pm) for pm in payloadMembers])}\n",
    "\n",
    "# IOs\n",
    "{format_table(pinMapping_df)}\n",
    "\n",
    "\n",
    "## References\n",
    "{reflexgenerator.sources.PayloadType.format_anchor_references()}\n",
    "\n",
    "{reflexgenerator.sources.RegisterType.format_anchor_references()}\n",
    "\n",
    "{reflexgenerator.sources.VisibilityType.format_anchor_references()}\n",
    "\n",
    "{reflexgenerator.sources.MaskCategory.format_anchor_references()}\n",
    "\n",
    "{reflexgenerator.sources.DirectionType.format_anchor_references()}\n",
    "\n",
    "{reflexgenerator.sources.InputPinModeType.format_anchor_references()}\n",
    "\n",
    "{reflexgenerator.sources.TriggerModeType.format_anchor_references()}\n",
    "\n",
    "{reflexgenerator.sources.InterruptPriorityType.format_anchor_references()}\n",
    "\n",
    "{reflexgenerator.sources.OutputPinModeType.format_anchor_references()}\n",
    "\n",
    "{reflexgenerator.sources.InitialStateType.format_anchor_references()}\n",
    "\n",
    "\n",
    "\n",
    "\"\"\"\n",
    "\n",
    "\n",
    "\n",
    "\n",
    "\n"
   ]
  },
  {
   "cell_type": "code",
   "execution_count": 23,
   "metadata": {},
   "outputs": [],
   "source": [
    "with open(\"documentation.md\", \"w\") as text_file:\n",
    "    text_file.write(txt)\n",
    "\n",
    "import markdown\n",
    "with open(\"documentation.html\", \"w\") as text_file:\n",
    "    text_file.write(markdown.markdown(txt, tab_length=4, extensions=['extra', 'smarty', 'sane_lists']))"
   ]
  },
  {
   "cell_type": "code",
   "execution_count": 14,
   "metadata": {},
   "outputs": [
    {
     "data": {
      "text/html": [
       "<div>\n",
       "<style scoped>\n",
       "    .dataframe tbody tr th:only-of-type {\n",
       "        vertical-align: middle;\n",
       "    }\n",
       "\n",
       "    .dataframe tbody tr th {\n",
       "        vertical-align: top;\n",
       "    }\n",
       "\n",
       "    .dataframe thead th {\n",
       "        text-align: right;\n",
       "    }\n",
       "</style>\n",
       "<table border=\"1\" class=\"dataframe\">\n",
       "  <thead>\n",
       "    <tr style=\"text-align: right;\">\n",
       "      <th></th>\n",
       "    </tr>\n",
       "  </thead>\n",
       "  <tbody>\n",
       "  </tbody>\n",
       "</table>\n",
       "</div>"
      ],
      "text/plain": [
       "Empty DataFrame\n",
       "Columns: []\n",
       "Index: []"
      ]
     },
     "execution_count": 14,
     "metadata": {},
     "output_type": "execute_result"
    }
   ],
   "source": []
  },
  {
   "cell_type": "code",
   "execution_count": null,
   "metadata": {},
   "outputs": [],
   "source": []
  }
 ],
 "metadata": {
  "kernelspec": {
   "display_name": "GitHarpCrawler",
   "language": "python",
   "name": "python3"
  },
  "language_info": {
   "codemirror_mode": {
    "name": "ipython",
    "version": 3
   },
   "file_extension": ".py",
   "mimetype": "text/x-python",
   "name": "python",
   "nbconvert_exporter": "python",
   "pygments_lexer": "ipython3",
   "version": "3.10.8"
  },
  "orig_nbformat": 4,
  "vscode": {
   "interpreter": {
    "hash": "31e18dbbdcef53cd4cf51b478349e0fef84e585d00f71ad27545982ad4e2cea2"
   }
  }
 },
 "nbformat": 4,
 "nbformat_minor": 2
}
