{
 "cells": [
  {
   "cell_type": "code",
   "execution_count": 1,
   "metadata": {},
   "outputs": [],
   "source": [
    "\n",
    "import reflexgenerator.sources\n",
    "from reflexgenerator.sources import (\n",
    "    Register, Mask, PinMap_from_json, Metadata, Collection)\n",
    "from reflexgenerator.io import load\n",
    "\n",
    "from pathlib import Path\n",
    "import pandas as pd\n",
    "from reflexgenerator.generator.xref import UidReference, make_anchor, create_link, filter_refs_by_type\n"
   ]
  },
  {
   "cell_type": "code",
   "execution_count": 2,
   "metadata": {},
   "outputs": [],
   "source": [
    "fw_target = r\"schema\\example.yml\"\n",
    "io_target = r\"schema\\ios.yml\""
   ]
  },
  {
   "cell_type": "code",
   "execution_count": 3,
   "metadata": {},
   "outputs": [],
   "source": [
    "device = load(fw_target)\n",
    "ios = load(io_target)"
   ]
  },
  {
   "cell_type": "code",
   "execution_count": 4,
   "metadata": {},
   "outputs": [
    {
     "name": "stdout",
     "output_type": "stream",
     "text": [
      "Metadata(device='ExampleDevice', whoAmI=0, firmwareVersion='0.1', hardwareTargets='0.1', architecture='atmega', uid=ref-Device-Metadata-ExampleDevice_0)\n"
     ]
    }
   ],
   "source": [
    "metadata = Metadata(\n",
    "    **{\"device\": device[\"device\"],\n",
    "    \"whoAmI\": device[\"whoAmI\"],\n",
    "    \"architecture\": device[\"architecture\"],\n",
    "    \"firmwareVersion\": device[\"firmwareVersion\"],\n",
    "    \"hardwareTargets\": device[\"hardwareTargets\"]})\n",
    "print(metadata)\n"
   ]
  },
  {
   "cell_type": "code",
   "execution_count": 5,
   "metadata": {},
   "outputs": [],
   "source": [
    "# build masks\n",
    "if \"bitMasks\" in device:\n",
    "    bitMasks = Collection([Mask.from_json(mask) for mask in device[\"bitMasks\"].items() if mask is not None])\n",
    "    bitMasks_df = pd.DataFrame([mask.to_dict() for mask in bitMasks])\n",
    "    bitMasks_df.head(5)\n",
    "else:\n",
    "    bitMasks = None\n",
    "    bitMasks_df = pd.DataFrame()\n",
    "\n",
    "if \"groupMask\" in device:\n",
    "    groupMasks = Collection([Mask.from_json(mask) for mask in device[\"groupMask\"].items() if mask is not None])\n",
    "    groupMasks_df = pd.DataFrame([mask.to_dict() for mask in groupMasks])\n",
    "    groupMasks_df.head(5)\n",
    "else:\n",
    "    groupMasks = None\n",
    "    groupMasks_df = pd.DataFrame()"
   ]
  },
  {
   "cell_type": "code",
   "execution_count": 6,
   "metadata": {},
   "outputs": [],
   "source": [
    "if \"registers\" in device:\n",
    "    regs = Collection([Register.from_json(reg) for reg in device[\"registers\"].items() if reg is not None])\n",
    "    register_df = pd.DataFrame([reg.to_dict() for reg in regs])\n",
    "    register_df.head(5)\n",
    "else:\n",
    "    regs = None\n",
    "    register_df = pd.DataFrame()"
   ]
  },
  {
   "cell_type": "code",
   "execution_count": 7,
   "metadata": {},
   "outputs": [
    {
     "data": {
      "text/html": [
       "<div>\n",
       "<style scoped>\n",
       "    .dataframe tbody tr th:only-of-type {\n",
       "        vertical-align: middle;\n",
       "    }\n",
       "\n",
       "    .dataframe tbody tr th {\n",
       "        vertical-align: top;\n",
       "    }\n",
       "\n",
       "    .dataframe thead th {\n",
       "        text-align: right;\n",
       "    }\n",
       "</style>\n",
       "<table border=\"1\" class=\"dataframe\">\n",
       "  <thead>\n",
       "    <tr style=\"text-align: right;\">\n",
       "      <th></th>\n",
       "      <th>name</th>\n",
       "      <th>port</th>\n",
       "      <th>pinNumber</th>\n",
       "      <th>direction</th>\n",
       "      <th>pinMode</th>\n",
       "      <th>triggerMode</th>\n",
       "      <th>interruptPriority</th>\n",
       "      <th>interruptNumber</th>\n",
       "      <th>description</th>\n",
       "      <th>uid</th>\n",
       "      <th>allowRead</th>\n",
       "      <th>initialState</th>\n",
       "      <th>invert</th>\n",
       "    </tr>\n",
       "  </thead>\n",
       "  <tbody>\n",
       "    <tr>\n",
       "      <th>0</th>\n",
       "      <td>Lick0</td>\n",
       "      <td>PORTA</td>\n",
       "      <td>0</td>\n",
       "      <td>[input](#ref-DirectionType-input)</td>\n",
       "      <td>[tristate](#ref-InputPinModeType-tristate)</td>\n",
       "      <td>[toggle](#ref-TriggerModeType-toggle)</td>\n",
       "      <td>[low](#ref-InterruptPriorityType-low)</td>\n",
       "      <td>0.0</td>\n",
       "      <td>Input for the Lick 0.</td>\n",
       "      <td>ref-Device-InputPin-Lick0</td>\n",
       "      <td>NaN</td>\n",
       "      <td>NaN</td>\n",
       "      <td>NaN</td>\n",
       "    </tr>\n",
       "    <tr>\n",
       "      <th>1</th>\n",
       "      <td>Lick1</td>\n",
       "      <td>PORTA</td>\n",
       "      <td>1</td>\n",
       "      <td>[input](#ref-DirectionType-input)</td>\n",
       "      <td>[tristate](#ref-InputPinModeType-tristate)</td>\n",
       "      <td>[toggle](#ref-TriggerModeType-toggle)</td>\n",
       "      <td>[low](#ref-InterruptPriorityType-low)</td>\n",
       "      <td>1.0</td>\n",
       "      <td>Input for the Lick 1.</td>\n",
       "      <td>ref-Device-InputPin-Lick1</td>\n",
       "      <td>NaN</td>\n",
       "      <td>NaN</td>\n",
       "      <td>NaN</td>\n",
       "    </tr>\n",
       "    <tr>\n",
       "      <th>2</th>\n",
       "      <td>Valve0</td>\n",
       "      <td>PORTA</td>\n",
       "      <td>6</td>\n",
       "      <td>[output](#ref-DirectionType-output)</td>\n",
       "      <td>[wiredOr](#ref-OutputPinModeType-wiredOr)</td>\n",
       "      <td>NaN</td>\n",
       "      <td>NaN</td>\n",
       "      <td>NaN</td>\n",
       "      <td>Controls the transistor of Valve 0.</td>\n",
       "      <td>ref-Device-OutputPin-Valve0</td>\n",
       "      <td>False</td>\n",
       "      <td>[low](#ref-InitialStateType-low)</td>\n",
       "      <td>False</td>\n",
       "    </tr>\n",
       "  </tbody>\n",
       "</table>\n",
       "</div>"
      ],
      "text/plain": [
       "     name   port  pinNumber                            direction  \\\n",
       "0   Lick0  PORTA          0    [input](#ref-DirectionType-input)   \n",
       "1   Lick1  PORTA          1    [input](#ref-DirectionType-input)   \n",
       "2  Valve0  PORTA          6  [output](#ref-DirectionType-output)   \n",
       "\n",
       "                                      pinMode  \\\n",
       "0  [tristate](#ref-InputPinModeType-tristate)   \n",
       "1  [tristate](#ref-InputPinModeType-tristate)   \n",
       "2   [wiredOr](#ref-OutputPinModeType-wiredOr)   \n",
       "\n",
       "                             triggerMode  \\\n",
       "0  [toggle](#ref-TriggerModeType-toggle)   \n",
       "1  [toggle](#ref-TriggerModeType-toggle)   \n",
       "2                                    NaN   \n",
       "\n",
       "                       interruptPriority  interruptNumber  \\\n",
       "0  [low](#ref-InterruptPriorityType-low)              0.0   \n",
       "1  [low](#ref-InterruptPriorityType-low)              1.0   \n",
       "2                                    NaN              NaN   \n",
       "\n",
       "                           description                          uid allowRead  \\\n",
       "0                Input for the Lick 0.    ref-Device-InputPin-Lick0       NaN   \n",
       "1                Input for the Lick 1.    ref-Device-InputPin-Lick1       NaN   \n",
       "2  Controls the transistor of Valve 0.  ref-Device-OutputPin-Valve0     False   \n",
       "\n",
       "                       initialState invert  \n",
       "0                               NaN    NaN  \n",
       "1                               NaN    NaN  \n",
       "2  [low](#ref-InitialStateType-low)  False  "
      ]
     },
     "execution_count": 7,
     "metadata": {},
     "output_type": "execute_result"
    }
   ],
   "source": [
    "pinMapping = Collection([PinMap_from_json(pinmap) for pinmap in ios.items() if pinmap is not None])\n",
    "pinMapping_df = pd.DataFrame([pinmap.to_dict() for pinmap in pinMapping])\n",
    "pinMapping_df.head(5)\n"
   ]
  },
  {
   "cell_type": "code",
   "execution_count": 8,
   "metadata": {},
   "outputs": [
    {
     "data": {
      "text/html": [
       "<div>\n",
       "<style scoped>\n",
       "    .dataframe tbody tr th:only-of-type {\n",
       "        vertical-align: middle;\n",
       "    }\n",
       "\n",
       "    .dataframe tbody tr th {\n",
       "        vertical-align: top;\n",
       "    }\n",
       "\n",
       "    .dataframe thead th {\n",
       "        text-align: right;\n",
       "    }\n",
       "</style>\n",
       "<table border=\"1\" class=\"dataframe\">\n",
       "  <thead>\n",
       "    <tr style=\"text-align: right;\">\n",
       "      <th></th>\n",
       "      <th>name</th>\n",
       "      <th>mask</th>\n",
       "      <th>offset</th>\n",
       "      <th>maskType</th>\n",
       "      <th>description</th>\n",
       "      <th>converter</th>\n",
       "      <th>defaultValue</th>\n",
       "      <th>maxValue</th>\n",
       "      <th>minValue</th>\n",
       "      <th>interfaceType</th>\n",
       "      <th>uid</th>\n",
       "    </tr>\n",
       "  </thead>\n",
       "  <tbody>\n",
       "    <tr>\n",
       "      <th>0</th>\n",
       "      <td>ADC</td>\n",
       "      <td>None</td>\n",
       "      <td>0</td>\n",
       "      <td>None</td>\n",
       "      <td>The value of the board ADC.</td>\n",
       "      <td>None</td>\n",
       "      <td>None</td>\n",
       "      <td>None</td>\n",
       "      <td>None</td>\n",
       "      <td>None</td>\n",
       "      <td>ref-Device-PayloadMember-ADC</td>\n",
       "    </tr>\n",
       "    <tr>\n",
       "      <th>1</th>\n",
       "      <td>Encoder</td>\n",
       "      <td>None</td>\n",
       "      <td>1</td>\n",
       "      <td>None</td>\n",
       "      <td>The value of the quadrature counter in Port 2.</td>\n",
       "      <td>None</td>\n",
       "      <td>None</td>\n",
       "      <td>None</td>\n",
       "      <td>None</td>\n",
       "      <td>None</td>\n",
       "      <td>ref-Device-PayloadMember-Encoder</td>\n",
       "    </tr>\n",
       "  </tbody>\n",
       "</table>\n",
       "</div>"
      ],
      "text/plain": [
       "      name  mask  offset maskType  \\\n",
       "0      ADC  None       0     None   \n",
       "1  Encoder  None       1     None   \n",
       "\n",
       "                                      description converter defaultValue  \\\n",
       "0                     The value of the board ADC.      None         None   \n",
       "1  The value of the quadrature counter in Port 2.      None         None   \n",
       "\n",
       "  maxValue minValue interfaceType                               uid  \n",
       "0     None     None          None      ref-Device-PayloadMember-ADC  \n",
       "1     None     None          None  ref-Device-PayloadMember-Encoder  "
      ]
     },
     "execution_count": 8,
     "metadata": {},
     "output_type": "execute_result"
    }
   ],
   "source": [
    "payloadMembers = Collection(list(filter_refs_by_type(reflexgenerator.sources.PayloadMember).values()))\n",
    "payloadMembers_df = pd.DataFrame([payloadMember.parent.to_dict() for payloadMember in payloadMembers])\n",
    "payloadMembers_df.head(5)"
   ]
  },
  {
   "cell_type": "code",
   "execution_count": 9,
   "metadata": {},
   "outputs": [],
   "source": [
    "register_df_copy = register_df.copy()\n",
    "for i in register_df_copy.index:\n",
    "    if register_df_copy.at[i, 'maskType']:\n",
    "        if isinstance(register_df_copy.at[i, 'maskType'][0], Mask):\n",
    "            register_df_copy.at[i, 'maskType'] = [x.uid.render_pointer() for x in register_df_copy.at[i, 'maskType']]\n",
    "\n",
    "bitMasks_df_copy = bitMasks_df.copy()\n",
    "for i in bitMasks_df_copy.index:\n",
    "    bitMasks_df_copy.at[i, 'name'] = bitMasks_df_copy.at[i, 'uid'].render_pointer()\n",
    "\n",
    "groupMasks_df_copy = groupMasks_df.copy() if groupMasks_df is not None else pd.DataFrame()\n",
    "for i in groupMasks_df_copy.index:\n",
    "    groupMasks_df_copy.at[i, 'name'] = groupMasks_df_copy.at[i, 'uid'].render_pointer()\n",
    "\n",
    "payloadMembers_df_copy = payloadMembers_df.copy() if payloadMembers_df is not None else pd.DataFrame()\n",
    "for i in payloadMembers_df_copy.index:\n",
    "    payloadMembers_df_copy.at[i, 'name'] = payloadMembers_df_copy.at[i, 'uid'].render_pointer()\n"
   ]
  },
  {
   "cell_type": "code",
   "execution_count": 10,
   "metadata": {},
   "outputs": [],
   "source": [
    "def format_table(df: pd.DataFrame) -> str:\n",
    "    return df.loc[:, df.columns != \"uid\"].to_markdown(index=False, tablefmt=\"pipe\")"
   ]
  },
  {
   "cell_type": "code",
   "execution_count": 11,
   "metadata": {},
   "outputs": [
    {
     "ename": "AttributeError",
     "evalue": "'UidReference' object has no attribute 'format_dict'",
     "output_type": "error",
     "traceback": [
      "\u001b[1;31m---------------------------------------------------------------------------\u001b[0m",
      "\u001b[1;31mAttributeError\u001b[0m                            Traceback (most recent call last)",
      "Cell \u001b[1;32mIn[11], line 33\u001b[0m\n\u001b[0;32m      1\u001b[0m metadata_format \u001b[39m=\u001b[39m (\u001b[39m\"\u001b[39m\u001b[39m\"\u001b[39m\u001b[39m.\u001b[39mjoin([\u001b[39mf\u001b[39m\u001b[39m'''\u001b[39m\u001b[39m<font size=\u001b[39m\u001b[39m\"\u001b[39m\u001b[39m4\u001b[39m\u001b[39m\"\u001b[39m\u001b[39m> - \u001b[39m\u001b[39m{\u001b[39;00mk\u001b[39m}\u001b[39;00m\u001b[39m: \u001b[39m\u001b[39m{\u001b[39;00mv\u001b[39m}\u001b[39;00m\u001b[39m </font> \u001b[39m\u001b[39m\\n\u001b[39;00m\u001b[39m\\n\u001b[39;00m\u001b[39m'''\u001b[39m \u001b[39mfor\u001b[39;00m k,v \u001b[39min\u001b[39;00m metadata\u001b[39m.\u001b[39mto_dict()\u001b[39m.\u001b[39mitems() \u001b[39mif\u001b[39;00m k \u001b[39m!=\u001b[39m \u001b[39m\"\u001b[39m\u001b[39muid\u001b[39m\u001b[39m\"\u001b[39m]))\n\u001b[0;32m      3\u001b[0m txt \u001b[39m=\u001b[39m \u001b[39mf\u001b[39m\u001b[39m\"\"\"\u001b[39m\n\u001b[0;32m      4\u001b[0m \n\u001b[0;32m      5\u001b[0m \u001b[39m# Device\u001b[39m\n\u001b[0;32m      6\u001b[0m \n\u001b[0;32m      7\u001b[0m \u001b[39m{\u001b[39;00mmetadata_format\u001b[39m}\u001b[39;00m\n\u001b[0;32m      8\u001b[0m \u001b[39m--------\u001b[39m\n\u001b[0;32m      9\u001b[0m \n\u001b[0;32m     10\u001b[0m \u001b[39m# Registers\u001b[39m\n\u001b[0;32m     11\u001b[0m \n\u001b[0;32m     12\u001b[0m \u001b[39m## Summary table\u001b[39m\n\u001b[0;32m     13\u001b[0m \u001b[39m{\u001b[39;00mformat_table(register_df_copy)\u001b[39m}\u001b[39;00m\n\u001b[0;32m     14\u001b[0m \n\u001b[0;32m     15\u001b[0m \u001b[39m## Technical documentation\u001b[39m\n\u001b[0;32m     16\u001b[0m \u001b[39m{\u001b[39;00m\u001b[39m\"\u001b[39m\u001b[39m\"\u001b[39m\u001b[39m.\u001b[39mjoin([reg\u001b[39m.\u001b[39mformat_dict() \u001b[39mfor\u001b[39;00m reg \u001b[39min\u001b[39;00m regs])\u001b[39m}\u001b[39;00m\n\u001b[0;32m     17\u001b[0m \u001b[39m--------\u001b[39m\n\u001b[0;32m     18\u001b[0m \n\u001b[0;32m     19\u001b[0m \u001b[39m# BitMasks\u001b[39m\n\u001b[0;32m     20\u001b[0m \n\u001b[0;32m     21\u001b[0m \u001b[39m## Summary table\u001b[39m\n\u001b[0;32m     22\u001b[0m \u001b[39m{\u001b[39;00mformat_table(bitMasks_df_copy)\u001b[39m}\u001b[39;00m\n\u001b[0;32m     23\u001b[0m \n\u001b[0;32m     24\u001b[0m \u001b[39m## Technical documentation\u001b[39m\n\u001b[0;32m     25\u001b[0m \u001b[39m{\u001b[39;00m\u001b[39m\"\u001b[39m\u001b[39m\"\u001b[39m\u001b[39m.\u001b[39mjoin([mask\u001b[39m.\u001b[39mformat_dict() \u001b[39mfor\u001b[39;00m mask \u001b[39min\u001b[39;00m bitMasks])\u001b[39m}\u001b[39;00m\n\u001b[0;32m     26\u001b[0m \u001b[39m--------\u001b[39m\n\u001b[0;32m     27\u001b[0m \u001b[39m# PayloadMembers\u001b[39m\n\u001b[0;32m     28\u001b[0m \n\u001b[0;32m     29\u001b[0m \u001b[39m## Summary table\u001b[39m\n\u001b[0;32m     30\u001b[0m \u001b[39m{\u001b[39;00mformat_table(payloadMembers_df_copy)\u001b[39m}\u001b[39;00m\n\u001b[0;32m     31\u001b[0m \n\u001b[0;32m     32\u001b[0m \u001b[39m## Technical documentation\u001b[39m\n\u001b[1;32m---> 33\u001b[0m \u001b[39m{\u001b[39;00m\u001b[39m\"\u001b[39m\u001b[39m\"\u001b[39m\u001b[39m.\u001b[39mjoin([payloadMeber\u001b[39m.\u001b[39mformat_dict() \u001b[39mfor\u001b[39;00m payloadMeber \u001b[39min\u001b[39;00m payloadMembers])\u001b[39m}\u001b[39;00m\n\u001b[0;32m     34\u001b[0m \n\u001b[0;32m     35\u001b[0m \u001b[39m# IOs\u001b[39m\n\u001b[0;32m     36\u001b[0m \u001b[39m{\u001b[39;00mformat_table(pinMapping_df)\u001b[39m}\u001b[39;00m\n\u001b[0;32m     37\u001b[0m \n\u001b[0;32m     38\u001b[0m \n\u001b[0;32m     39\u001b[0m \u001b[39m## References\u001b[39m\n\u001b[0;32m     40\u001b[0m \u001b[39m{\u001b[39;00mreflexgenerator\u001b[39m.\u001b[39msources\u001b[39m.\u001b[39mPayloadType\u001b[39m.\u001b[39mformat_anchor_references()\u001b[39m}\u001b[39;00m\n\u001b[0;32m     41\u001b[0m \n\u001b[0;32m     42\u001b[0m \u001b[39m{\u001b[39;00mreflexgenerator\u001b[39m.\u001b[39msources\u001b[39m.\u001b[39mRegisterType\u001b[39m.\u001b[39mformat_anchor_references()\u001b[39m}\u001b[39;00m\n\u001b[0;32m     43\u001b[0m \n\u001b[0;32m     44\u001b[0m \u001b[39m{\u001b[39;00mreflexgenerator\u001b[39m.\u001b[39msources\u001b[39m.\u001b[39mVisibilityType\u001b[39m.\u001b[39mformat_anchor_references()\u001b[39m}\u001b[39;00m\n\u001b[0;32m     45\u001b[0m \n\u001b[0;32m     46\u001b[0m \u001b[39m{\u001b[39;00mreflexgenerator\u001b[39m.\u001b[39msources\u001b[39m.\u001b[39mMaskCategory\u001b[39m.\u001b[39mformat_anchor_references()\u001b[39m}\u001b[39;00m\n\u001b[0;32m     47\u001b[0m \n\u001b[0;32m     48\u001b[0m \u001b[39m{\u001b[39;00mreflexgenerator\u001b[39m.\u001b[39msources\u001b[39m.\u001b[39mDirectionType\u001b[39m.\u001b[39mformat_anchor_references()\u001b[39m}\u001b[39;00m\n\u001b[0;32m     49\u001b[0m \n\u001b[0;32m     50\u001b[0m \u001b[39m{\u001b[39;00mreflexgenerator\u001b[39m.\u001b[39msources\u001b[39m.\u001b[39mInputPinModeType\u001b[39m.\u001b[39mformat_anchor_references()\u001b[39m}\u001b[39;00m\n\u001b[0;32m     51\u001b[0m \n\u001b[0;32m     52\u001b[0m \u001b[39m{\u001b[39;00mreflexgenerator\u001b[39m.\u001b[39msources\u001b[39m.\u001b[39mTriggerModeType\u001b[39m.\u001b[39mformat_anchor_references()\u001b[39m}\u001b[39;00m\n\u001b[0;32m     53\u001b[0m \n\u001b[0;32m     54\u001b[0m \u001b[39m{\u001b[39;00mreflexgenerator\u001b[39m.\u001b[39msources\u001b[39m.\u001b[39mInterruptPriorityType\u001b[39m.\u001b[39mformat_anchor_references()\u001b[39m}\u001b[39;00m\n\u001b[0;32m     55\u001b[0m \n\u001b[0;32m     56\u001b[0m \u001b[39m{\u001b[39;00mreflexgenerator\u001b[39m.\u001b[39msources\u001b[39m.\u001b[39mOutputPinModeType\u001b[39m.\u001b[39mformat_anchor_references()\u001b[39m}\u001b[39;00m\n\u001b[0;32m     57\u001b[0m \n\u001b[0;32m     58\u001b[0m \u001b[39m{\u001b[39;00mreflexgenerator\u001b[39m.\u001b[39msources\u001b[39m.\u001b[39mInitialStateType\u001b[39m.\u001b[39mformat_anchor_references()\u001b[39m}\u001b[39;00m\n\u001b[0;32m     59\u001b[0m \n\u001b[0;32m     60\u001b[0m \n\u001b[0;32m     61\u001b[0m \n\u001b[0;32m     62\u001b[0m \u001b[39m\"\"\"\u001b[39m\n",
      "Cell \u001b[1;32mIn[11], line 33\u001b[0m, in \u001b[0;36m<listcomp>\u001b[1;34m(.0)\u001b[0m\n\u001b[0;32m      1\u001b[0m metadata_format \u001b[39m=\u001b[39m (\u001b[39m\"\u001b[39m\u001b[39m\"\u001b[39m\u001b[39m.\u001b[39mjoin([\u001b[39mf\u001b[39m\u001b[39m'''\u001b[39m\u001b[39m<font size=\u001b[39m\u001b[39m\"\u001b[39m\u001b[39m4\u001b[39m\u001b[39m\"\u001b[39m\u001b[39m> - \u001b[39m\u001b[39m{\u001b[39;00mk\u001b[39m}\u001b[39;00m\u001b[39m: \u001b[39m\u001b[39m{\u001b[39;00mv\u001b[39m}\u001b[39;00m\u001b[39m </font> \u001b[39m\u001b[39m\\n\u001b[39;00m\u001b[39m\\n\u001b[39;00m\u001b[39m'''\u001b[39m \u001b[39mfor\u001b[39;00m k,v \u001b[39min\u001b[39;00m metadata\u001b[39m.\u001b[39mto_dict()\u001b[39m.\u001b[39mitems() \u001b[39mif\u001b[39;00m k \u001b[39m!=\u001b[39m \u001b[39m\"\u001b[39m\u001b[39muid\u001b[39m\u001b[39m\"\u001b[39m]))\n\u001b[0;32m      3\u001b[0m txt \u001b[39m=\u001b[39m \u001b[39mf\u001b[39m\u001b[39m\"\"\"\u001b[39m\n\u001b[0;32m      4\u001b[0m \n\u001b[0;32m      5\u001b[0m \u001b[39m# Device\u001b[39m\n\u001b[0;32m      6\u001b[0m \n\u001b[0;32m      7\u001b[0m \u001b[39m{\u001b[39;00mmetadata_format\u001b[39m}\u001b[39;00m\n\u001b[0;32m      8\u001b[0m \u001b[39m--------\u001b[39m\n\u001b[0;32m      9\u001b[0m \n\u001b[0;32m     10\u001b[0m \u001b[39m# Registers\u001b[39m\n\u001b[0;32m     11\u001b[0m \n\u001b[0;32m     12\u001b[0m \u001b[39m## Summary table\u001b[39m\n\u001b[0;32m     13\u001b[0m \u001b[39m{\u001b[39;00mformat_table(register_df_copy)\u001b[39m}\u001b[39;00m\n\u001b[0;32m     14\u001b[0m \n\u001b[0;32m     15\u001b[0m \u001b[39m## Technical documentation\u001b[39m\n\u001b[0;32m     16\u001b[0m \u001b[39m{\u001b[39;00m\u001b[39m\"\u001b[39m\u001b[39m\"\u001b[39m\u001b[39m.\u001b[39mjoin([reg\u001b[39m.\u001b[39mformat_dict() \u001b[39mfor\u001b[39;00m reg \u001b[39min\u001b[39;00m regs])\u001b[39m}\u001b[39;00m\n\u001b[0;32m     17\u001b[0m \u001b[39m--------\u001b[39m\n\u001b[0;32m     18\u001b[0m \n\u001b[0;32m     19\u001b[0m \u001b[39m# BitMasks\u001b[39m\n\u001b[0;32m     20\u001b[0m \n\u001b[0;32m     21\u001b[0m \u001b[39m## Summary table\u001b[39m\n\u001b[0;32m     22\u001b[0m \u001b[39m{\u001b[39;00mformat_table(bitMasks_df_copy)\u001b[39m}\u001b[39;00m\n\u001b[0;32m     23\u001b[0m \n\u001b[0;32m     24\u001b[0m \u001b[39m## Technical documentation\u001b[39m\n\u001b[0;32m     25\u001b[0m \u001b[39m{\u001b[39;00m\u001b[39m\"\u001b[39m\u001b[39m\"\u001b[39m\u001b[39m.\u001b[39mjoin([mask\u001b[39m.\u001b[39mformat_dict() \u001b[39mfor\u001b[39;00m mask \u001b[39min\u001b[39;00m bitMasks])\u001b[39m}\u001b[39;00m\n\u001b[0;32m     26\u001b[0m \u001b[39m--------\u001b[39m\n\u001b[0;32m     27\u001b[0m \u001b[39m# PayloadMembers\u001b[39m\n\u001b[0;32m     28\u001b[0m \n\u001b[0;32m     29\u001b[0m \u001b[39m## Summary table\u001b[39m\n\u001b[0;32m     30\u001b[0m \u001b[39m{\u001b[39;00mformat_table(payloadMembers_df_copy)\u001b[39m}\u001b[39;00m\n\u001b[0;32m     31\u001b[0m \n\u001b[0;32m     32\u001b[0m \u001b[39m## Technical documentation\u001b[39m\n\u001b[1;32m---> 33\u001b[0m \u001b[39m{\u001b[39;00m\u001b[39m\"\u001b[39m\u001b[39m\"\u001b[39m\u001b[39m.\u001b[39mjoin([payloadMeber\u001b[39m.\u001b[39mformat_dict() \u001b[39mfor\u001b[39;00m payloadMeber \u001b[39min\u001b[39;00m payloadMembers])\u001b[39m}\u001b[39;00m\n\u001b[0;32m     34\u001b[0m \n\u001b[0;32m     35\u001b[0m \u001b[39m# IOs\u001b[39m\n\u001b[0;32m     36\u001b[0m \u001b[39m{\u001b[39;00mformat_table(pinMapping_df)\u001b[39m}\u001b[39;00m\n\u001b[0;32m     37\u001b[0m \n\u001b[0;32m     38\u001b[0m \n\u001b[0;32m     39\u001b[0m \u001b[39m## References\u001b[39m\n\u001b[0;32m     40\u001b[0m \u001b[39m{\u001b[39;00mreflexgenerator\u001b[39m.\u001b[39msources\u001b[39m.\u001b[39mPayloadType\u001b[39m.\u001b[39mformat_anchor_references()\u001b[39m}\u001b[39;00m\n\u001b[0;32m     41\u001b[0m \n\u001b[0;32m     42\u001b[0m \u001b[39m{\u001b[39;00mreflexgenerator\u001b[39m.\u001b[39msources\u001b[39m.\u001b[39mRegisterType\u001b[39m.\u001b[39mformat_anchor_references()\u001b[39m}\u001b[39;00m\n\u001b[0;32m     43\u001b[0m \n\u001b[0;32m     44\u001b[0m \u001b[39m{\u001b[39;00mreflexgenerator\u001b[39m.\u001b[39msources\u001b[39m.\u001b[39mVisibilityType\u001b[39m.\u001b[39mformat_anchor_references()\u001b[39m}\u001b[39;00m\n\u001b[0;32m     45\u001b[0m \n\u001b[0;32m     46\u001b[0m \u001b[39m{\u001b[39;00mreflexgenerator\u001b[39m.\u001b[39msources\u001b[39m.\u001b[39mMaskCategory\u001b[39m.\u001b[39mformat_anchor_references()\u001b[39m}\u001b[39;00m\n\u001b[0;32m     47\u001b[0m \n\u001b[0;32m     48\u001b[0m \u001b[39m{\u001b[39;00mreflexgenerator\u001b[39m.\u001b[39msources\u001b[39m.\u001b[39mDirectionType\u001b[39m.\u001b[39mformat_anchor_references()\u001b[39m}\u001b[39;00m\n\u001b[0;32m     49\u001b[0m \n\u001b[0;32m     50\u001b[0m \u001b[39m{\u001b[39;00mreflexgenerator\u001b[39m.\u001b[39msources\u001b[39m.\u001b[39mInputPinModeType\u001b[39m.\u001b[39mformat_anchor_references()\u001b[39m}\u001b[39;00m\n\u001b[0;32m     51\u001b[0m \n\u001b[0;32m     52\u001b[0m \u001b[39m{\u001b[39;00mreflexgenerator\u001b[39m.\u001b[39msources\u001b[39m.\u001b[39mTriggerModeType\u001b[39m.\u001b[39mformat_anchor_references()\u001b[39m}\u001b[39;00m\n\u001b[0;32m     53\u001b[0m \n\u001b[0;32m     54\u001b[0m \u001b[39m{\u001b[39;00mreflexgenerator\u001b[39m.\u001b[39msources\u001b[39m.\u001b[39mInterruptPriorityType\u001b[39m.\u001b[39mformat_anchor_references()\u001b[39m}\u001b[39;00m\n\u001b[0;32m     55\u001b[0m \n\u001b[0;32m     56\u001b[0m \u001b[39m{\u001b[39;00mreflexgenerator\u001b[39m.\u001b[39msources\u001b[39m.\u001b[39mOutputPinModeType\u001b[39m.\u001b[39mformat_anchor_references()\u001b[39m}\u001b[39;00m\n\u001b[0;32m     57\u001b[0m \n\u001b[0;32m     58\u001b[0m \u001b[39m{\u001b[39;00mreflexgenerator\u001b[39m.\u001b[39msources\u001b[39m.\u001b[39mInitialStateType\u001b[39m.\u001b[39mformat_anchor_references()\u001b[39m}\u001b[39;00m\n\u001b[0;32m     59\u001b[0m \n\u001b[0;32m     60\u001b[0m \n\u001b[0;32m     61\u001b[0m \n\u001b[0;32m     62\u001b[0m \u001b[39m\"\"\"\u001b[39m\n",
      "\u001b[1;31mAttributeError\u001b[0m: 'UidReference' object has no attribute 'format_dict'"
     ]
    }
   ],
   "source": [
    "metadata_format = (\"\".join([f'''<font size=\"4\"> - {k}: {v} </font> \\n\\n''' for k,v in metadata.to_dict().items() if k != \"uid\"]))\n",
    "\n",
    "txt = f\"\"\"\n",
    "\n",
    "# Device\n",
    "\n",
    "{metadata_format}\n",
    "--------\n",
    "\n",
    "# Registers\n",
    "\n",
    "## Summary table\n",
    "{format_table(register_df_copy)}\n",
    "\n",
    "## Technical documentation\n",
    "{\"\".join([reg.format_dict() for reg in regs])}\n",
    "--------\n",
    "\n",
    "# BitMasks\n",
    "\n",
    "## Summary table\n",
    "{format_table(bitMasks_df_copy)}\n",
    "\n",
    "## Technical documentation\n",
    "{\"\".join([mask.format_dict() for mask in bitMasks])}\n",
    "--------\n",
    "# PayloadMembers\n",
    "\n",
    "## Summary table\n",
    "{format_table(payloadMembers_df_copy)}\n",
    "\n",
    "## Technical documentation\n",
    "{\"\".join([payloadMember.format_dict() for payloadMember in payloadMembers])}\n",
    "\n",
    "# IOs\n",
    "{format_table(pinMapping_df)}\n",
    "\n",
    "\n",
    "## References\n",
    "{reflexgenerator.sources.PayloadType.format_anchor_references()}\n",
    "\n",
    "{reflexgenerator.sources.RegisterType.format_anchor_references()}\n",
    "\n",
    "{reflexgenerator.sources.VisibilityType.format_anchor_references()}\n",
    "\n",
    "{reflexgenerator.sources.MaskCategory.format_anchor_references()}\n",
    "\n",
    "{reflexgenerator.sources.DirectionType.format_anchor_references()}\n",
    "\n",
    "{reflexgenerator.sources.InputPinModeType.format_anchor_references()}\n",
    "\n",
    "{reflexgenerator.sources.TriggerModeType.format_anchor_references()}\n",
    "\n",
    "{reflexgenerator.sources.InterruptPriorityType.format_anchor_references()}\n",
    "\n",
    "{reflexgenerator.sources.OutputPinModeType.format_anchor_references()}\n",
    "\n",
    "{reflexgenerator.sources.InitialStateType.format_anchor_references()}\n",
    "\n",
    "\n",
    "\n",
    "\"\"\"\n",
    "\n",
    "\n",
    "\n",
    "\n",
    "\n"
   ]
  },
  {
   "cell_type": "code",
   "execution_count": 13,
   "metadata": {},
   "outputs": [
    {
     "data": {
      "text/plain": [
       "{\"### DO\\n> description = Bitmask representing the state of the digital outputs. \\n\\n> value = None \\n\\n> bits = [BitOrValue(name='DO0', value='0x1', description='The state of digital output pin 0.', uid=ref-Device-BitOrValue-DO0), BitOrValue(name='DO1', value='0x2', description='The state of digital output pin 1.', uid=ref-Device-BitOrValue-DO1)] \\n\\n> maskCategory = [BitMask](#ref-MaskCategory-BitMask) \\n\\n\"}"
      ]
     },
     "execution_count": 13,
     "metadata": {},
     "output_type": "execute_result"
    }
   ],
   "source": []
  },
  {
   "cell_type": "code",
   "execution_count": null,
   "metadata": {},
   "outputs": [],
   "source": [
    "with open(\"documentation.md\", \"w\") as text_file:\n",
    "    text_file.write(txt)\n",
    "\n",
    "import markdown\n",
    "with open(\"documentation.html\", \"w\") as text_file:\n",
    "    text_file.write(markdown.markdown(txt, tab_length=4, extensions=['extra', 'smarty', 'sane_lists']))"
   ]
  },
  {
   "cell_type": "code",
   "execution_count": null,
   "metadata": {},
   "outputs": [],
   "source": []
  },
  {
   "cell_type": "code",
   "execution_count": null,
   "metadata": {},
   "outputs": [],
   "source": []
  }
 ],
 "metadata": {
  "kernelspec": {
   "display_name": "GitHarpCrawler",
   "language": "python",
   "name": "python3"
  },
  "language_info": {
   "codemirror_mode": {
    "name": "ipython",
    "version": 3
   },
   "file_extension": ".py",
   "mimetype": "text/x-python",
   "name": "python",
   "nbconvert_exporter": "python",
   "pygments_lexer": "ipython3",
   "version": "3.10.8"
  },
  "orig_nbformat": 4,
  "vscode": {
   "interpreter": {
    "hash": "31e18dbbdcef53cd4cf51b478349e0fef84e585d00f71ad27545982ad4e2cea2"
   }
  }
 },
 "nbformat": 4,
 "nbformat_minor": 2
}
