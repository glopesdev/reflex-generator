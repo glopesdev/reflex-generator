{
 "cells": [
  {
   "cell_type": "code",
   "execution_count": null,
   "metadata": {},
   "outputs": [],
   "source": [
    "import reflexgenerator.sources\n",
    "from reflexgenerator.sources import (\n",
    "    Register, BitMask, Bit, IOElement, Metadata, Collection)\n",
    "from reflexgenerator.sources.io import load\n",
    "\n",
    "from pathlib import Path\n",
    "import pandas as pd\n",
    "from reflexgenerator.generator.markdown import AnchorReference\n"
   ]
  },
  {
   "cell_type": "code",
   "execution_count": null,
   "metadata": {},
   "outputs": [],
   "source": [
    "schema = r\"schema\\device.json\"\n",
    "fw_target = r\"schema\\example.yml\"\n"
   ]
  },
  {
   "cell_type": "code",
   "execution_count": null,
   "metadata": {},
   "outputs": [],
   "source": [
    "jsondata = load(fw_target)\n"
   ]
  },
  {
   "cell_type": "code",
   "execution_count": null,
   "metadata": {},
   "outputs": [],
   "source": [
    "metadata = Metadata(\n",
    "    device=jsondata[\"device\"],\n",
    "    whoAmI=jsondata[\"whoAmI\"],\n",
    "    architecture=jsondata[\"architecture\"],\n",
    "    firmwareVersion=jsondata[\"firmwareVersion\"],\n",
    "    hardwareTargets=jsondata[\"hardwareTargets\"])\n",
    "print(metadata)"
   ]
  },
  {
   "cell_type": "code",
   "execution_count": null,
   "metadata": {},
   "outputs": [],
   "source": [
    "# build masks\n",
    "masks = Collection([BitMask(**mask) for mask in jsondata[\"masks\"]])\n",
    "masks_df = pd.DataFrame([mask.to_dict() for mask in masks])\n",
    "masks_df.head(5)"
   ]
  },
  {
   "cell_type": "code",
   "execution_count": null,
   "metadata": {},
   "outputs": [],
   "source": [
    "# build registers\n",
    "regs = Collection([Register(**reg) for reg in jsondata[\"registers\"]])\n",
    "register_df = pd.DataFrame([reg.to_dict() for reg in regs])\n",
    "register_df.head(5)\n",
    "\n"
   ]
  },
  {
   "cell_type": "code",
   "execution_count": null,
   "metadata": {},
   "outputs": [],
   "source": [
    "ios = Collection([IOElement(**io) for io in jsondata[\"ios\"]])\n",
    "ios_df = pd.DataFrame([io.to_dict() for io in ios])\n",
    "ios_df.head(5)"
   ]
  },
  {
   "cell_type": "code",
   "execution_count": null,
   "metadata": {},
   "outputs": [],
   "source": []
  },
  {
   "cell_type": "code",
   "execution_count": null,
   "metadata": {},
   "outputs": [],
   "source": [
    "for i in register_df.index:\n",
    "    if register_df.at[i, 'maskType']:\n",
    "        if isinstance(register_df.at[i, 'maskType'][0], BitMask):\n",
    "            register_df.at[i, 'maskType'] = [x.render_pointer() for x in register_df.at[i, 'maskType']]\n",
    "\n"
   ]
  },
  {
   "cell_type": "code",
   "execution_count": null,
   "metadata": {},
   "outputs": [],
   "source": [
    "masks_df[\"name\"] = masks_df[\"name\"].apply(lambda name: AnchorReference.REFERENCES[name].render_reference())"
   ]
  },
  {
   "cell_type": "code",
   "execution_count": null,
   "metadata": {},
   "outputs": [],
   "source": [
    "txt = f\"\"\"# Registers\n",
    "\n",
    "{register_df.to_markdown()}\n",
    "\n",
    "\n",
    "# Masks\n",
    "\n",
    "{masks_df.to_markdown()}\n",
    "\n",
    "# IOs\n",
    "\n",
    "{ios_df.to_markdown()}\n",
    "\"\"\"\n",
    "\n",
    "with open(\"documentation.md\", \"w\") as text_file:\n",
    "    text_file.write(txt)\n",
    "\n",
    "import markdown\n",
    "with open(\"documentation.html\", \"w\") as text_file:\n",
    "    text_file.write(markdown.markdown(txt))\n"
   ]
  }
 ],
 "metadata": {
  "kernelspec": {
   "display_name": "GitHarpCrawler",
   "language": "python",
   "name": "python3"
  },
  "language_info": {
   "codemirror_mode": {
    "name": "ipython",
    "version": 3
   },
   "file_extension": ".py",
   "mimetype": "text/x-python",
   "name": "python",
   "nbconvert_exporter": "python",
   "pygments_lexer": "ipython3",
   "version": "3.10.8"
  },
  "orig_nbformat": 4,
  "vscode": {
   "interpreter": {
    "hash": "31e18dbbdcef53cd4cf51b478349e0fef84e585d00f71ad27545982ad4e2cea2"
   }
  }
 },
 "nbformat": 4,
 "nbformat_minor": 2
}
