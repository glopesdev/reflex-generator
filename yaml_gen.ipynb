{
 "cells": [
  {
   "cell_type": "code",
   "execution_count": 1,
   "metadata": {},
   "outputs": [],
   "source": [
    "%load_ext autoreload\n",
    "%autoreload 2\n",
    "\n",
    "import reflexgenerator.sources\n",
    "from reflexgenerator.sources import (\n",
    "    Register, Mask, PinMap, Metadata, Collection)\n",
    "from reflexgenerator.io import load\n",
    "\n",
    "from pathlib import Path\n",
    "import pandas as pd\n",
    "from reflexgenerator.generator.xref import UidReference\n"
   ]
  },
  {
   "cell_type": "code",
   "execution_count": 2,
   "metadata": {},
   "outputs": [],
   "source": [
    "schema = r\"schema\\device.json\"\n",
    "fw_target = r\"schema\\example.yml\"\n"
   ]
  },
  {
   "cell_type": "code",
   "execution_count": 3,
   "metadata": {},
   "outputs": [],
   "source": [
    "jsondata = load(fw_target)\n"
   ]
  },
  {
   "cell_type": "code",
   "execution_count": 4,
   "metadata": {},
   "outputs": [
    {
     "name": "stdout",
     "output_type": "stream",
     "text": [
      "Metadata(device='ExampleDevice', whoAmI=0, firmwareVersion='0.1', hardwareTargets='0.1', architecture='atmega', uid=ref-Device-Metadata-ExampleDevice_0)\n"
     ]
    }
   ],
   "source": [
    "metadata = Metadata(\n",
    "    **{\"device\": jsondata[\"device\"],\n",
    "    \"whoAmI\": jsondata[\"whoAmI\"],\n",
    "    \"architecture\": jsondata[\"architecture\"],\n",
    "    \"firmwareVersion\": jsondata[\"firmwareVersion\"],\n",
    "    \"hardwareTargets\": jsondata[\"hardwareTargets\"]})\n",
    "print(metadata)"
   ]
  },
  {
   "cell_type": "code",
   "execution_count": 5,
   "metadata": {},
   "outputs": [],
   "source": [
    "# build masks\n",
    "if \"bitMasks\" in jsondata:\n",
    "    bitMasks = Collection([Mask.from_json(mask) for mask in jsondata[\"bitMasks\"].items() if mask is not None])\n",
    "    bitMasks_df = pd.DataFrame([mask.to_dict() for mask in bitMasks])\n",
    "    bitMasks_df.head(5)\n",
    "else:\n",
    "    bitMasks = None\n",
    "    bitMasks_df = None\n",
    "\n",
    "if \"groupMask\" in jsondata:\n",
    "    groupMasks = Collection([Mask.from_json(mask) for mask in jsondata[\"groupMask\"].items() if mask is not None])\n",
    "    groupMasks_df = pd.DataFrame([mask.to_dict() for mask in groupMasks])\n",
    "    groupMasks_df.head(5)\n",
    "else:\n",
    "    groupMasks = None\n",
    "    groupMasks_df = None"
   ]
  },
  {
   "cell_type": "code",
   "execution_count": 6,
   "metadata": {},
   "outputs": [],
   "source": [
    "if \"registers\" in jsondata:\n",
    "    regs = Collection([Register.from_json(reg) for reg in jsondata[\"registers\"].items() if reg is not None])\n",
    "    register_df = pd.DataFrame([reg.to_dict() for reg in regs])\n",
    "    register_df.head(5)\n",
    "else:\n",
    "    regs = None\n",
    "    register_df = None"
   ]
  },
  {
   "cell_type": "code",
   "execution_count": 7,
   "metadata": {},
   "outputs": [],
   "source": [
    "if \"ios\" in jsondata:\n",
    "    pinMapping = Collection([PinMap.from_json(pinmap) for pinmap in jsondata[\"ios\"].items() if pinmap is not None])\n",
    "    pinMapping_df = pd.DataFrame([pinmap.to_dict() for pinmap in pinMapping])\n",
    "    pinMapping_df.head(5)\n",
    "else:\n",
    "    pinMapping = None\n",
    "    pinMapping_df = None"
   ]
  },
  {
   "cell_type": "code",
   "execution_count": 18,
   "metadata": {},
   "outputs": [
    {
     "ename": "AttributeError",
     "evalue": "'NoneType' object has no attribute 'copy'",
     "output_type": "error",
     "traceback": [
      "\u001b[1;31m---------------------------------------------------------------------------\u001b[0m",
      "\u001b[1;31mAttributeError\u001b[0m                            Traceback (most recent call last)",
      "Cell \u001b[1;32mIn[18], line 11\u001b[0m\n\u001b[0;32m      8\u001b[0m \u001b[39mfor\u001b[39;00m i \u001b[39min\u001b[39;00m bitMasks_df_copy\u001b[39m.\u001b[39mindex:\n\u001b[0;32m      9\u001b[0m     bitMasks_df_copy\u001b[39m.\u001b[39mat[i, \u001b[39m'\u001b[39m\u001b[39mname\u001b[39m\u001b[39m'\u001b[39m] \u001b[39m=\u001b[39m bitMasks_df_copy\u001b[39m.\u001b[39mat[i, \u001b[39m'\u001b[39m\u001b[39muid\u001b[39m\u001b[39m'\u001b[39m]\u001b[39m.\u001b[39mrender_pointer()\n\u001b[1;32m---> 11\u001b[0m groupMasks_df_copy \u001b[39m=\u001b[39m groupMasks_df\u001b[39m.\u001b[39;49mcopy()\n\u001b[0;32m     12\u001b[0m \u001b[39mfor\u001b[39;00m i \u001b[39min\u001b[39;00m groupMasks_df_copy\u001b[39m.\u001b[39mindex:\n\u001b[0;32m     13\u001b[0m     groupMasks_df_copy\u001b[39m.\u001b[39mat[i, \u001b[39m'\u001b[39m\u001b[39mname\u001b[39m\u001b[39m'\u001b[39m] \u001b[39m=\u001b[39m groupMasks_df_copy\u001b[39m.\u001b[39mat[i, \u001b[39m'\u001b[39m\u001b[39muid\u001b[39m\u001b[39m'\u001b[39m]\u001b[39m.\u001b[39mrender_pointer()\n",
      "\u001b[1;31mAttributeError\u001b[0m: 'NoneType' object has no attribute 'copy'"
     ]
    }
   ],
   "source": [
    "register_df_copy = register_df.copy()\n",
    "for i in register_df_copy.index:\n",
    "    if register_df_copy.at[i, 'maskType']:\n",
    "        if isinstance(register_df_copy.at[i, 'maskType'][0], Mask):\n",
    "            register_df_copy.at[i, 'maskType'] = [x.uid.render_pointer() for x in register_df_copy.at[i, 'maskType']]\n",
    "\n",
    "bitMasks_df_copy = bitMasks_df.copy()\n",
    "for i in bitMasks_df_copy.index:\n",
    "    bitMasks_df_copy.at[i, 'name'] = bitMasks_df_copy.at[i, 'uid'].render_pointer()\n",
    "\n",
    "groupMasks_df_copy = groupMasks_df.copy()\n",
    "for i in groupMasks_df_copy.index:\n",
    "    groupMasks_df_copy.at[i, 'name'] = groupMasks_df_copy.at[i, 'uid'].render_pointer()\n"
   ]
  },
  {
   "cell_type": "code",
   "execution_count": 17,
   "metadata": {},
   "outputs": [
    {
     "ename": "NameError",
     "evalue": "name 'groupMasks_df_copy' is not defined",
     "output_type": "error",
     "traceback": [
      "\u001b[1;31m---------------------------------------------------------------------------\u001b[0m",
      "\u001b[1;31mNameError\u001b[0m                                 Traceback (most recent call last)",
      "Cell \u001b[1;32mIn[17], line 15\u001b[0m\n\u001b[0;32m      1\u001b[0m txt \u001b[39m=\u001b[39m \u001b[39mf\u001b[39m\u001b[39m\"\"\"\u001b[39m\u001b[39m# Registers\u001b[39m\n\u001b[0;32m      2\u001b[0m \n\u001b[0;32m      3\u001b[0m \u001b[39m{\u001b[39;00mregister_df_copy\u001b[39m.\u001b[39mto_markdown()\u001b[39m}\u001b[39;00m\n\u001b[0;32m      4\u001b[0m \n\u001b[0;32m      5\u001b[0m \n\u001b[0;32m      6\u001b[0m \u001b[39m# Masks\u001b[39m\n\u001b[0;32m      7\u001b[0m \n\u001b[0;32m      8\u001b[0m \u001b[39m## Bit Masks\u001b[39m\n\u001b[0;32m      9\u001b[0m \n\u001b[0;32m     10\u001b[0m \u001b[39m{\u001b[39;00mbitMasks_df_copy\u001b[39m.\u001b[39mto_markdown()\u001b[39m}\u001b[39;00m\n\u001b[0;32m     11\u001b[0m \n\u001b[0;32m     12\u001b[0m \n\u001b[0;32m     13\u001b[0m \u001b[39m## Group Masks\u001b[39m\n\u001b[0;32m     14\u001b[0m \n\u001b[1;32m---> 15\u001b[0m \u001b[39m{\u001b[39;00mgroupMasks_df_copy\u001b[39m.\u001b[39mto_markdown()\u001b[39m}\u001b[39;00m\n\u001b[0;32m     16\u001b[0m \n\u001b[0;32m     17\u001b[0m \u001b[39m# IOs\u001b[39m\n\u001b[0;32m     18\u001b[0m \n\u001b[0;32m     19\u001b[0m \u001b[39m{\u001b[39;00mpinMapping_df\u001b[39m.\u001b[39mto_markdown()\u001b[39m}\u001b[39;00m\n\u001b[0;32m     20\u001b[0m \u001b[39m\"\"\"\u001b[39m\n\u001b[0;32m     22\u001b[0m \u001b[39mwith\u001b[39;00m \u001b[39mopen\u001b[39m(\u001b[39m\"\u001b[39m\u001b[39mdocumentation.md\u001b[39m\u001b[39m\"\u001b[39m, \u001b[39m\"\u001b[39m\u001b[39mw\u001b[39m\u001b[39m\"\u001b[39m) \u001b[39mas\u001b[39;00m text_file:\n\u001b[0;32m     23\u001b[0m     text_file\u001b[39m.\u001b[39mwrite(txt)\n",
      "\u001b[1;31mNameError\u001b[0m: name 'groupMasks_df_copy' is not defined"
     ]
    }
   ],
   "source": [
    "txt = f\"\"\"# Registers\n",
    "\n",
    "{register_df_copy.to_markdown()}\n",
    "\n",
    "\n",
    "# Masks\n",
    "\n",
    "## Bit Masks\n",
    "\n",
    "{bitMasks_df_copy.to_markdown()}\n",
    "\n",
    "\n",
    "# IOs\n",
    "\n",
    "{pinMapping_df.to_markdown()}\n",
    "\"\"\"\n",
    "\n",
    "with open(\"documentation.md\", \"w\") as text_file:\n",
    "    text_file.write(txt)\n",
    "\n",
    "import markdown\n",
    "with open(\"documentation.html\", \"w\") as text_file:\n",
    "    text_file.write(markdown.markdown(txt))"
   ]
  },
  {
   "cell_type": "code",
   "execution_count": null,
   "metadata": {},
   "outputs": [],
   "source": []
  }
 ],
 "metadata": {
  "kernelspec": {
   "display_name": "GitHarpCrawler",
   "language": "python",
   "name": "python3"
  },
  "language_info": {
   "codemirror_mode": {
    "name": "ipython",
    "version": 3
   },
   "file_extension": ".py",
   "mimetype": "text/x-python",
   "name": "python",
   "nbconvert_exporter": "python",
   "pygments_lexer": "ipython3",
   "version": "3.10.8"
  },
  "orig_nbformat": 4,
  "vscode": {
   "interpreter": {
    "hash": "31e18dbbdcef53cd4cf51b478349e0fef84e585d00f71ad27545982ad4e2cea2"
   }
  }
 },
 "nbformat": 4,
 "nbformat_minor": 2
}
