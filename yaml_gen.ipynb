{
 "cells": [
  {
   "cell_type": "code",
   "execution_count": 2,
   "metadata": {},
   "outputs": [],
   "source": [
    "import reflexgenerator.sources\n",
    "from reflexgenerator.sources import (\n",
    "    Register, BitMask, Bit, IOElement, Metadata, Collection)\n",
    "from reflexgenerator.sources.io import load\n",
    "\n",
    "from pathlib import Path\n",
    "import pandas as pd\n"
   ]
  },
  {
   "cell_type": "code",
   "execution_count": 3,
   "metadata": {},
   "outputs": [],
   "source": [
    "schema = r\"schema\\device.json\"\n",
    "fw_target = r\"schema\\example.yml\"\n"
   ]
  },
  {
   "cell_type": "code",
   "execution_count": 4,
   "metadata": {},
   "outputs": [],
   "source": [
    "jsondata = load(fw_target)\n"
   ]
  },
  {
   "cell_type": "code",
   "execution_count": 5,
   "metadata": {},
   "outputs": [
    {
     "name": "stdout",
     "output_type": "stream",
     "text": [
      "Metadata(device='ExampleDevice', whoAmI=0, firmwareVersion='0.1', hardwareVersion='0.1', architecture='atmega')\n"
     ]
    }
   ],
   "source": [
    "metadata = Metadata(\n",
    "    device=jsondata[\"device\"],\n",
    "    whoAmI=jsondata[\"whoAmI\"],\n",
    "    architecture=jsondata[\"architecture\"],\n",
    "    firmwareVersion=jsondata[\"firmwareVersion\"],\n",
    "    hardwareVersion=jsondata[\"hardwareVersion\"])\n",
    "print(metadata)"
   ]
  },
  {
   "cell_type": "code",
   "execution_count": 6,
   "metadata": {},
   "outputs": [
    {
     "data": {
      "text/html": [
       "<div>\n",
       "<style scoped>\n",
       "    .dataframe tbody tr th:only-of-type {\n",
       "        vertical-align: middle;\n",
       "    }\n",
       "\n",
       "    .dataframe tbody tr th {\n",
       "        vertical-align: top;\n",
       "    }\n",
       "\n",
       "    .dataframe thead th {\n",
       "        text-align: right;\n",
       "    }\n",
       "</style>\n",
       "<table border=\"1\" class=\"dataframe\">\n",
       "  <thead>\n",
       "    <tr style=\"text-align: right;\">\n",
       "      <th></th>\n",
       "      <th>name</th>\n",
       "      <th>payloadType</th>\n",
       "      <th>description</th>\n",
       "      <th>bits</th>\n",
       "      <th>_uref</th>\n",
       "    </tr>\n",
       "  </thead>\n",
       "  <tbody>\n",
       "    <tr>\n",
       "      <th>0</th>\n",
       "      <td>DO</td>\n",
       "      <td>PayloadType.U8</td>\n",
       "      <td>Bitmask representing the state of the digital ...</td>\n",
       "      <td>[{'name': 'DO0', 'value': 1}, {'name': 'DO1', ...</td>\n",
       "      <td>Reference to DO</td>\n",
       "    </tr>\n",
       "  </tbody>\n",
       "</table>\n",
       "</div>"
      ],
      "text/plain": [
       "  name     payloadType                                        description  \\\n",
       "0   DO  PayloadType.U8  Bitmask representing the state of the digital ...   \n",
       "\n",
       "                                                bits            _uref  \n",
       "0  [{'name': 'DO0', 'value': 1}, {'name': 'DO1', ...  Reference to DO  "
      ]
     },
     "execution_count": 6,
     "metadata": {},
     "output_type": "execute_result"
    }
   ],
   "source": [
    "# build masks\n",
    "masks = Collection([BitMask(**mask) for mask in jsondata[\"masks\"]])\n",
    "masks_df = pd.DataFrame([mask.to_dict() for mask in masks])\n",
    "masks_df.fillna(\"N/A\",inplace=True)\n",
    "masks_df.head(5)"
   ]
  },
  {
   "cell_type": "code",
   "execution_count": 7,
   "metadata": {},
   "outputs": [
    {
     "data": {
      "text/html": [
       "<div>\n",
       "<style scoped>\n",
       "    .dataframe tbody tr th:only-of-type {\n",
       "        vertical-align: middle;\n",
       "    }\n",
       "\n",
       "    .dataframe tbody tr th {\n",
       "        vertical-align: top;\n",
       "    }\n",
       "\n",
       "    .dataframe thead th {\n",
       "        text-align: right;\n",
       "    }\n",
       "</style>\n",
       "<table border=\"1\" class=\"dataframe\">\n",
       "  <thead>\n",
       "    <tr style=\"text-align: right;\">\n",
       "      <th></th>\n",
       "      <th>name</th>\n",
       "      <th>address</th>\n",
       "      <th>payloadType</th>\n",
       "      <th>alias</th>\n",
       "      <th>arrayType</th>\n",
       "      <th>registerType</th>\n",
       "      <th>maskType</th>\n",
       "      <th>description</th>\n",
       "      <th>converter</th>\n",
       "      <th>visibility</th>\n",
       "      <th>group</th>\n",
       "      <th>_uref</th>\n",
       "    </tr>\n",
       "  </thead>\n",
       "  <tbody>\n",
       "    <tr>\n",
       "      <th>0</th>\n",
       "      <td>Cam0Event</td>\n",
       "      <td>32</td>\n",
       "      <td>PayloadType.U8</td>\n",
       "      <td>N/A</td>\n",
       "      <td>1</td>\n",
       "      <td>RegisterType.Event</td>\n",
       "      <td>N/A</td>\n",
       "      <td>None</td>\n",
       "      <td>N/A</td>\n",
       "      <td>VisibilityType.Public</td>\n",
       "      <td>None</td>\n",
       "      <td>Reference to Cam0Event</td>\n",
       "    </tr>\n",
       "    <tr>\n",
       "      <th>1</th>\n",
       "      <td>Cam0TriggerFrequency</td>\n",
       "      <td>33</td>\n",
       "      <td>PayloadType.U16</td>\n",
       "      <td>N/A</td>\n",
       "      <td>1</td>\n",
       "      <td>RegisterType.Command</td>\n",
       "      <td>{'name': 'DO', 'payloadType': PayloadType.U8, ...</td>\n",
       "      <td>Sets the trigger frequency for camera 0 betwee...</td>\n",
       "      <td>N/A</td>\n",
       "      <td>VisibilityType.Public</td>\n",
       "      <td>None</td>\n",
       "      <td>Reference to Cam0TriggerFrequency</td>\n",
       "    </tr>\n",
       "    <tr>\n",
       "      <th>2</th>\n",
       "      <td>Cam0TriggerDuration</td>\n",
       "      <td>34</td>\n",
       "      <td>PayloadType.U16</td>\n",
       "      <td>N/A</td>\n",
       "      <td>1</td>\n",
       "      <td>RegisterType.Command</td>\n",
       "      <td>N/A</td>\n",
       "      <td>Sets the duration of the trigger pulse (minimu...</td>\n",
       "      <td>N/A</td>\n",
       "      <td>VisibilityType.Public</td>\n",
       "      <td>None</td>\n",
       "      <td>Reference to Cam0TriggerDuration</td>\n",
       "    </tr>\n",
       "    <tr>\n",
       "      <th>3</th>\n",
       "      <td>StartAndStop</td>\n",
       "      <td>35</td>\n",
       "      <td>PayloadType.U8</td>\n",
       "      <td>N/A</td>\n",
       "      <td>1</td>\n",
       "      <td>RegisterType.Command</td>\n",
       "      <td>N/A</td>\n",
       "      <td>Starts or stops the camera immediately.</td>\n",
       "      <td>N/A</td>\n",
       "      <td>VisibilityType.Public</td>\n",
       "      <td>None</td>\n",
       "      <td>Reference to StartAndStop</td>\n",
       "    </tr>\n",
       "    <tr>\n",
       "      <th>4</th>\n",
       "      <td>InState</td>\n",
       "      <td>36</td>\n",
       "      <td>PayloadType.U8</td>\n",
       "      <td>N/A</td>\n",
       "      <td>1</td>\n",
       "      <td>RegisterType.Event</td>\n",
       "      <td>N/A</td>\n",
       "      <td>Contains the state of the input ports.</td>\n",
       "      <td>N/A</td>\n",
       "      <td>VisibilityType.Public</td>\n",
       "      <td>None</td>\n",
       "      <td>Reference to InState</td>\n",
       "    </tr>\n",
       "  </tbody>\n",
       "</table>\n",
       "</div>"
      ],
      "text/plain": [
       "                   name  address      payloadType alias  arrayType  \\\n",
       "0             Cam0Event       32   PayloadType.U8   N/A          1   \n",
       "1  Cam0TriggerFrequency       33  PayloadType.U16   N/A          1   \n",
       "2   Cam0TriggerDuration       34  PayloadType.U16   N/A          1   \n",
       "3          StartAndStop       35   PayloadType.U8   N/A          1   \n",
       "4               InState       36   PayloadType.U8   N/A          1   \n",
       "\n",
       "           registerType                                           maskType  \\\n",
       "0    RegisterType.Event                                                N/A   \n",
       "1  RegisterType.Command  {'name': 'DO', 'payloadType': PayloadType.U8, ...   \n",
       "2  RegisterType.Command                                                N/A   \n",
       "3  RegisterType.Command                                                N/A   \n",
       "4    RegisterType.Event                                                N/A   \n",
       "\n",
       "                                         description converter  \\\n",
       "0                                               None       N/A   \n",
       "1  Sets the trigger frequency for camera 0 betwee...       N/A   \n",
       "2  Sets the duration of the trigger pulse (minimu...       N/A   \n",
       "3            Starts or stops the camera immediately.       N/A   \n",
       "4             Contains the state of the input ports.       N/A   \n",
       "\n",
       "              visibility group                              _uref  \n",
       "0  VisibilityType.Public  None             Reference to Cam0Event  \n",
       "1  VisibilityType.Public  None  Reference to Cam0TriggerFrequency  \n",
       "2  VisibilityType.Public  None   Reference to Cam0TriggerDuration  \n",
       "3  VisibilityType.Public  None          Reference to StartAndStop  \n",
       "4  VisibilityType.Public  None               Reference to InState  "
      ]
     },
     "execution_count": 7,
     "metadata": {},
     "output_type": "execute_result"
    }
   ],
   "source": [
    "# build registers\n",
    "regs = Collection([Register(**reg) for reg in jsondata[\"registers\"]])\n",
    "register_df = pd.DataFrame([reg.to_dict() for reg in regs])\n",
    "register_df.fillna(\"N/A\",inplace=True)\n",
    "register_df.head(5)\n",
    "\n"
   ]
  },
  {
   "cell_type": "code",
   "execution_count": 8,
   "metadata": {},
   "outputs": [
    {
     "data": {
      "text/html": [
       "<div>\n",
       "<style scoped>\n",
       "    .dataframe tbody tr th:only-of-type {\n",
       "        vertical-align: middle;\n",
       "    }\n",
       "\n",
       "    .dataframe tbody tr th {\n",
       "        vertical-align: top;\n",
       "    }\n",
       "\n",
       "    .dataframe thead th {\n",
       "        text-align: right;\n",
       "    }\n",
       "</style>\n",
       "<table border=\"1\" class=\"dataframe\">\n",
       "  <thead>\n",
       "    <tr style=\"text-align: right;\">\n",
       "      <th></th>\n",
       "      <th>name</th>\n",
       "      <th>port</th>\n",
       "      <th>pin</th>\n",
       "      <th>direction</th>\n",
       "      <th>useInput</th>\n",
       "      <th>pull</th>\n",
       "      <th>sense</th>\n",
       "      <th>interruptPriority</th>\n",
       "      <th>interruptNumber</th>\n",
       "      <th>out</th>\n",
       "      <th>outDefault</th>\n",
       "      <th>outInvert</th>\n",
       "      <th>description</th>\n",
       "    </tr>\n",
       "  </thead>\n",
       "  <tbody>\n",
       "    <tr>\n",
       "      <th>0</th>\n",
       "      <td>DO3</td>\n",
       "      <td>PORTC</td>\n",
       "      <td>0</td>\n",
       "      <td>output</td>\n",
       "      <td>N/A</td>\n",
       "      <td>N/A</td>\n",
       "      <td>N/A</td>\n",
       "      <td>N/A</td>\n",
       "      <td>N/A</td>\n",
       "      <td>N/A</td>\n",
       "      <td>N/A</td>\n",
       "      <td>N/A</td>\n",
       "      <td>DO0</td>\n",
       "    </tr>\n",
       "    <tr>\n",
       "      <th>1</th>\n",
       "      <td>DO2</td>\n",
       "      <td>PORTB</td>\n",
       "      <td>2</td>\n",
       "      <td>output</td>\n",
       "      <td>N/A</td>\n",
       "      <td>N/A</td>\n",
       "      <td>N/A</td>\n",
       "      <td>N/A</td>\n",
       "      <td>N/A</td>\n",
       "      <td>N/A</td>\n",
       "      <td>N/A</td>\n",
       "      <td>N/A</td>\n",
       "      <td>DO0</td>\n",
       "    </tr>\n",
       "  </tbody>\n",
       "</table>\n",
       "</div>"
      ],
      "text/plain": [
       "  name   port  pin direction useInput pull sense interruptPriority  \\\n",
       "0  DO3  PORTC    0    output      N/A  N/A   N/A               N/A   \n",
       "1  DO2  PORTB    2    output      N/A  N/A   N/A               N/A   \n",
       "\n",
       "  interruptNumber  out outDefault outInvert description  \n",
       "0             N/A  N/A        N/A       N/A         DO0  \n",
       "1             N/A  N/A        N/A       N/A         DO0  "
      ]
     },
     "execution_count": 8,
     "metadata": {},
     "output_type": "execute_result"
    }
   ],
   "source": [
    "ios = Collection([IOElement(**io) for io in jsondata[\"ios\"]])\n",
    "ios_df = pd.DataFrame([io.to_dict() for io in ios])\n",
    "ios_df.fillna(\"N/A\",inplace=True)\n",
    "ios_df.head(5)"
   ]
  },
  {
   "cell_type": "code",
   "execution_count": 11,
   "metadata": {},
   "outputs": [],
   "source": [
    "txt = f\"\"\"Registers\n",
    "\n",
    "{register_df.to_markdown()}\n",
    "\n",
    "\n",
    "Masks\n",
    "\n",
    "{masks_df.to_markdown()}\n",
    "\n",
    "\n",
    "\"\"\"\n",
    "\n",
    "with open(\"documentation.md\", \"w\") as text_file:\n",
    "    text_file.write(txt)\n"
   ]
  },
  {
   "cell_type": "code",
   "execution_count": 15,
   "metadata": {},
   "outputs": [
    {
     "data": {
      "text/plain": [
       "BitMask(name='DO', payloadType=<PayloadType.U8: 1>, description='Bitmask representing the state of the digital outputs.', bits=[Bit(name='DO0', value=1), Bit(name='DO1', value=2)], _uref=Reference to DO)"
      ]
     },
     "execution_count": 15,
     "metadata": {},
     "output_type": "execute_result"
    }
   ],
   "source": [
    "from reflexgenerator.generator.markdown import AnchorReference\n",
    "\n",
    "obj = AnchorReference.REFERENCES[\"DO\"]\n",
    "obj.parent\n",
    "\n",
    "\n",
    "from reflexgenerator.generator.markdown import make_anchor, create_link\n",
    "\n",
    "refname = \"Com0Event\"\n",
    "register_df.loc[0,\"name\"] = make_anchor(refname)\n",
    "\n",
    "masks_df[\"TestReference\"] = masks_df.apply(lambda  x: create_link(refname, None), axis=1)\n",
    "\n",
    "register_df[\"name\"] ="
   ]
  },
  {
   "cell_type": "code",
   "execution_count": null,
   "metadata": {},
   "outputs": [],
   "source": []
  }
 ],
 "metadata": {
  "kernelspec": {
   "display_name": "GitHarpCrawler",
   "language": "python",
   "name": "python3"
  },
  "language_info": {
   "codemirror_mode": {
    "name": "ipython",
    "version": 3
   },
   "file_extension": ".py",
   "mimetype": "text/x-python",
   "name": "python",
   "nbconvert_exporter": "python",
   "pygments_lexer": "ipython3",
   "version": "3.10.8"
  },
  "orig_nbformat": 4,
  "vscode": {
   "interpreter": {
    "hash": "31e18dbbdcef53cd4cf51b478349e0fef84e585d00f71ad27545982ad4e2cea2"
   }
  }
 },
 "nbformat": 4,
 "nbformat_minor": 2
}
