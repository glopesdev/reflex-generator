{
 "cells": [
  {
   "cell_type": "code",
   "execution_count": 1,
   "metadata": {},
   "outputs": [],
   "source": [
    "\n",
    "import reflexgenerator.sources\n",
    "from reflexgenerator.sources import (\n",
    "    Register, Mask, PinMap_from_json, Metadata, Collection)\n",
    "from reflexgenerator.io import load\n",
    "\n",
    "from pathlib import Path\n",
    "import pandas as pd\n",
    "from reflexgenerator.generator.xref import UidReference, make_anchor, create_link, filter_refs_by_type\n"
   ]
  },
  {
   "cell_type": "code",
   "execution_count": 2,
   "metadata": {},
   "outputs": [],
   "source": [
    "fw_target = r\"schema\\common.yml\"\n",
    "io_target = r\"schema\\ios.yml\""
   ]
  },
  {
   "cell_type": "code",
   "execution_count": 3,
   "metadata": {},
   "outputs": [],
   "source": [
    "device = load(fw_target)\n",
    "ios = load(io_target)"
   ]
  },
  {
   "cell_type": "code",
   "execution_count": 6,
   "metadata": {},
   "outputs": [
    {
     "ename": "KeyError",
     "evalue": "'device'",
     "output_type": "error",
     "traceback": [
      "\u001b[1;31m---------------------------------------------------------------------------\u001b[0m",
      "\u001b[1;31mKeyError\u001b[0m                                  Traceback (most recent call last)",
      "Cell \u001b[1;32mIn[6], line 2\u001b[0m\n\u001b[0;32m      1\u001b[0m metadata \u001b[39m=\u001b[39m Metadata(\n\u001b[1;32m----> 2\u001b[0m     \u001b[39m*\u001b[39m\u001b[39m*\u001b[39m{\u001b[39m\"\u001b[39m\u001b[39mdevice\u001b[39m\u001b[39m\"\u001b[39m: device[\u001b[39m\"\u001b[39;49m\u001b[39mdevice\u001b[39;49m\u001b[39m\"\u001b[39;49m],\n\u001b[0;32m      3\u001b[0m     \u001b[39m\"\u001b[39m\u001b[39mwhoAmI\u001b[39m\u001b[39m\"\u001b[39m: device[\u001b[39m\"\u001b[39m\u001b[39mwhoAmI\u001b[39m\u001b[39m\"\u001b[39m],\n\u001b[0;32m      4\u001b[0m     \u001b[39m\"\u001b[39m\u001b[39marchitecture\u001b[39m\u001b[39m\"\u001b[39m: device[\u001b[39m\"\u001b[39m\u001b[39marchitecture\u001b[39m\u001b[39m\"\u001b[39m],\n\u001b[0;32m      5\u001b[0m     \u001b[39m\"\u001b[39m\u001b[39mfirmwareVersion\u001b[39m\u001b[39m\"\u001b[39m: device[\u001b[39m\"\u001b[39m\u001b[39mfirmwareVersion\u001b[39m\u001b[39m\"\u001b[39m],\n\u001b[0;32m      6\u001b[0m     \u001b[39m\"\u001b[39m\u001b[39mhardwareTargets\u001b[39m\u001b[39m\"\u001b[39m: device[\u001b[39m\"\u001b[39m\u001b[39mhardwareTargets\u001b[39m\u001b[39m\"\u001b[39m]})\n\u001b[0;32m      7\u001b[0m \u001b[39mprint\u001b[39m(metadata)\n",
      "\u001b[1;31mKeyError\u001b[0m: 'device'"
     ]
    }
   ],
   "source": [
    "metadata = Metadata(\n",
    "    **{\"device\": device[\"device\"],\n",
    "    \"whoAmI\": device[\"whoAmI\"],\n",
    "    \"architecture\": device[\"architecture\"],\n",
    "    \"firmwareVersion\": device[\"firmwareVersion\"],\n",
    "    \"hardwareTargets\": device[\"hardwareTargets\"]})\n",
    "print(metadata)\n"
   ]
  },
  {
   "cell_type": "code",
   "execution_count": 4,
   "metadata": {},
   "outputs": [
    {
     "ename": "KeyError",
     "evalue": "'values'",
     "output_type": "error",
     "traceback": [
      "\u001b[1;31m---------------------------------------------------------------------------\u001b[0m",
      "\u001b[1;31mKeyError\u001b[0m                                  Traceback (most recent call last)",
      "File \u001b[1;32mc:\\Users\\neurogears\\anaconda3\\envs\\GitHarpCrawler\\lib\\site-packages\\pandas\\core\\indexes\\base.py:3803\u001b[0m, in \u001b[0;36mIndex.get_loc\u001b[1;34m(self, key, method, tolerance)\u001b[0m\n\u001b[0;32m   3802\u001b[0m \u001b[39mtry\u001b[39;00m:\n\u001b[1;32m-> 3803\u001b[0m     \u001b[39mreturn\u001b[39;00m \u001b[39mself\u001b[39;49m\u001b[39m.\u001b[39;49m_engine\u001b[39m.\u001b[39;49mget_loc(casted_key)\n\u001b[0;32m   3804\u001b[0m \u001b[39mexcept\u001b[39;00m \u001b[39mKeyError\u001b[39;00m \u001b[39mas\u001b[39;00m err:\n",
      "File \u001b[1;32mc:\\Users\\neurogears\\anaconda3\\envs\\GitHarpCrawler\\lib\\site-packages\\pandas\\_libs\\index.pyx:138\u001b[0m, in \u001b[0;36mpandas._libs.index.IndexEngine.get_loc\u001b[1;34m()\u001b[0m\n",
      "File \u001b[1;32mc:\\Users\\neurogears\\anaconda3\\envs\\GitHarpCrawler\\lib\\site-packages\\pandas\\_libs\\index.pyx:165\u001b[0m, in \u001b[0;36mpandas._libs.index.IndexEngine.get_loc\u001b[1;34m()\u001b[0m\n",
      "File \u001b[1;32mpandas\\_libs\\hashtable_class_helper.pxi:5745\u001b[0m, in \u001b[0;36mpandas._libs.hashtable.PyObjectHashTable.get_item\u001b[1;34m()\u001b[0m\n",
      "File \u001b[1;32mpandas\\_libs\\hashtable_class_helper.pxi:5753\u001b[0m, in \u001b[0;36mpandas._libs.hashtable.PyObjectHashTable.get_item\u001b[1;34m()\u001b[0m\n",
      "\u001b[1;31mKeyError\u001b[0m: 'values'",
      "\nThe above exception was the direct cause of the following exception:\n",
      "\u001b[1;31mKeyError\u001b[0m                                  Traceback (most recent call last)",
      "Cell \u001b[1;32mIn[4], line 16\u001b[0m\n\u001b[0;32m     14\u001b[0m     groupMasks_df \u001b[39m=\u001b[39m pd\u001b[39m.\u001b[39mDataFrame([mask\u001b[39m.\u001b[39mto_dict() \u001b[39mfor\u001b[39;00m mask \u001b[39min\u001b[39;00m groupMasks])\n\u001b[0;32m     15\u001b[0m     groupMasks_df[\u001b[39m\"\u001b[39m\u001b[39mname\u001b[39m\u001b[39m\"\u001b[39m] \u001b[39m=\u001b[39m groupMasks_df[\u001b[39m\"\u001b[39m\u001b[39muid\u001b[39m\u001b[39m\"\u001b[39m]\u001b[39m.\u001b[39mapply(\u001b[39mlambda\u001b[39;00m x: (x\u001b[39m.\u001b[39mrender_pointer()))\n\u001b[1;32m---> 16\u001b[0m     bitMasks_df[\u001b[39m\"\u001b[39m\u001b[39mvalues\u001b[39m\u001b[39m\"\u001b[39m] \u001b[39m=\u001b[39m bitMasks_df[\u001b[39m\"\u001b[39;49m\u001b[39mvalues\u001b[39;49m\u001b[39m\"\u001b[39;49m]\u001b[39m.\u001b[39mapply(\u001b[39mlambda\u001b[39;00m x: [bit\u001b[39m.\u001b[39mvalue \u001b[39mfor\u001b[39;00m bit \u001b[39min\u001b[39;00m x \u001b[39mif\u001b[39;00m bit \u001b[39mis\u001b[39;00m \u001b[39mnot\u001b[39;00m \u001b[39mNone\u001b[39;00m] \u001b[39mif\u001b[39;00m x \u001b[39mis\u001b[39;00m \u001b[39mnot\u001b[39;00m \u001b[39mNone\u001b[39;00m \u001b[39melse\u001b[39;00m \u001b[39mNone\u001b[39;00m)\n\u001b[0;32m     17\u001b[0m     groupMasks_df\u001b[39m.\u001b[39mhead(\u001b[39m5\u001b[39m)\n\u001b[0;32m     18\u001b[0m \u001b[39melse\u001b[39;00m:\n",
      "File \u001b[1;32mc:\\Users\\neurogears\\anaconda3\\envs\\GitHarpCrawler\\lib\\site-packages\\pandas\\core\\frame.py:3805\u001b[0m, in \u001b[0;36mDataFrame.__getitem__\u001b[1;34m(self, key)\u001b[0m\n\u001b[0;32m   3803\u001b[0m \u001b[39mif\u001b[39;00m \u001b[39mself\u001b[39m\u001b[39m.\u001b[39mcolumns\u001b[39m.\u001b[39mnlevels \u001b[39m>\u001b[39m \u001b[39m1\u001b[39m:\n\u001b[0;32m   3804\u001b[0m     \u001b[39mreturn\u001b[39;00m \u001b[39mself\u001b[39m\u001b[39m.\u001b[39m_getitem_multilevel(key)\n\u001b[1;32m-> 3805\u001b[0m indexer \u001b[39m=\u001b[39m \u001b[39mself\u001b[39;49m\u001b[39m.\u001b[39;49mcolumns\u001b[39m.\u001b[39;49mget_loc(key)\n\u001b[0;32m   3806\u001b[0m \u001b[39mif\u001b[39;00m is_integer(indexer):\n\u001b[0;32m   3807\u001b[0m     indexer \u001b[39m=\u001b[39m [indexer]\n",
      "File \u001b[1;32mc:\\Users\\neurogears\\anaconda3\\envs\\GitHarpCrawler\\lib\\site-packages\\pandas\\core\\indexes\\base.py:3805\u001b[0m, in \u001b[0;36mIndex.get_loc\u001b[1;34m(self, key, method, tolerance)\u001b[0m\n\u001b[0;32m   3803\u001b[0m     \u001b[39mreturn\u001b[39;00m \u001b[39mself\u001b[39m\u001b[39m.\u001b[39m_engine\u001b[39m.\u001b[39mget_loc(casted_key)\n\u001b[0;32m   3804\u001b[0m \u001b[39mexcept\u001b[39;00m \u001b[39mKeyError\u001b[39;00m \u001b[39mas\u001b[39;00m err:\n\u001b[1;32m-> 3805\u001b[0m     \u001b[39mraise\u001b[39;00m \u001b[39mKeyError\u001b[39;00m(key) \u001b[39mfrom\u001b[39;00m \u001b[39merr\u001b[39;00m\n\u001b[0;32m   3806\u001b[0m \u001b[39mexcept\u001b[39;00m \u001b[39mTypeError\u001b[39;00m:\n\u001b[0;32m   3807\u001b[0m     \u001b[39m# If we have a listlike key, _check_indexing_error will raise\u001b[39;00m\n\u001b[0;32m   3808\u001b[0m     \u001b[39m#  InvalidIndexError. Otherwise we fall through and re-raise\u001b[39;00m\n\u001b[0;32m   3809\u001b[0m     \u001b[39m#  the TypeError.\u001b[39;00m\n\u001b[0;32m   3810\u001b[0m     \u001b[39mself\u001b[39m\u001b[39m.\u001b[39m_check_indexing_error(key)\n",
      "\u001b[1;31mKeyError\u001b[0m: 'values'"
     ]
    }
   ],
   "source": [
    "# build masks\n",
    "if \"bitMasks\" in device:\n",
    "    bitMasks = Collection([Mask.from_json(mask) for mask in device[\"bitMasks\"].items() if mask is not None])\n",
    "    bitMasks_df = pd.DataFrame([mask.to_dict() for mask in bitMasks])\n",
    "    bitMasks_df[\"name\"] = bitMasks_df[\"uid\"].apply(lambda x: (x.render_pointer()))\n",
    "    bitMasks_df[\"bits\"] = bitMasks_df[\"bits\"].apply(lambda x: [bit.value for bit in x if bit is not None] if x is not None else None)\n",
    "    bitMasks_df.head(5)\n",
    "else:\n",
    "    bitMasks = None\n",
    "    bitMasks_df = pd.DataFrame()\n",
    "\n",
    "if \"groupMasks\" in device:\n",
    "    groupMasks = Collection([Mask.from_json(mask) for mask in device[\"groupMasks\"].items() if mask is not None])\n",
    "    groupMasks_df = pd.DataFrame([mask.to_dict() for mask in groupMasks])\n",
    "    groupMasks_df[\"name\"] = groupMasks_df[\"uid\"].apply(lambda x: (x.render_pointer()))\n",
    "    groupMasks_df[\"values\"] = groupMasks_df[\"values\"].apply(lambda x: [bit.value for bit in x if bit is not None] if x is not None else None)\n",
    "    groupMasks_df.head(5)\n",
    "else:\n",
    "    groupMasks = None\n",
    "    groupMasks_df = pd.DataFrame()\n",
    "\n",
    "## Create deep copies to manipulate\n",
    "bitMasks_df_copy = bitMasks_df.copy() if groupMasks_df is not None else pd.DataFrame()\n",
    "groupMasks_df_copy = groupMasks_df.copy() if groupMasks_df is not None else pd.DataFrame()\n"
   ]
  },
  {
   "cell_type": "code",
   "execution_count": 5,
   "metadata": {},
   "outputs": [
    {
     "ename": "KeyError",
     "evalue": "'Specified mask, OperationMode, has not been defined.'",
     "output_type": "error",
     "traceback": [
      "\u001b[1;31m---------------------------------------------------------------------------\u001b[0m",
      "\u001b[1;31mKeyError\u001b[0m                                  Traceback (most recent call last)",
      "Cell \u001b[1;32mIn[5], line 3\u001b[0m\n\u001b[0;32m      1\u001b[0m \u001b[39m# build registers\u001b[39;00m\n\u001b[0;32m      2\u001b[0m \u001b[39mif\u001b[39;00m \u001b[39m\"\u001b[39m\u001b[39mregisters\u001b[39m\u001b[39m\"\u001b[39m \u001b[39min\u001b[39;00m device:\n\u001b[1;32m----> 3\u001b[0m     regs \u001b[39m=\u001b[39m Collection([Register\u001b[39m.\u001b[39mfrom_json(reg) \u001b[39mfor\u001b[39;00m reg \u001b[39min\u001b[39;00m device[\u001b[39m\"\u001b[39m\u001b[39mregisters\u001b[39m\u001b[39m\"\u001b[39m]\u001b[39m.\u001b[39mitems() \u001b[39mif\u001b[39;00m reg \u001b[39mis\u001b[39;00m \u001b[39mnot\u001b[39;00m \u001b[39mNone\u001b[39;00m])\n\u001b[0;32m      4\u001b[0m     register_df \u001b[39m=\u001b[39m pd\u001b[39m.\u001b[39mDataFrame([reg\u001b[39m.\u001b[39mto_dict() \u001b[39mfor\u001b[39;00m reg \u001b[39min\u001b[39;00m regs])\n\u001b[0;32m      5\u001b[0m     register_df[\u001b[39m\"\u001b[39m\u001b[39mname\u001b[39m\u001b[39m\"\u001b[39m] \u001b[39m=\u001b[39m register_df[\u001b[39m\"\u001b[39m\u001b[39muid\u001b[39m\u001b[39m\"\u001b[39m]\u001b[39m.\u001b[39mapply(\u001b[39mlambda\u001b[39;00m x: (x\u001b[39m.\u001b[39mrender_pointer()))\n",
      "Cell \u001b[1;32mIn[5], line 3\u001b[0m, in \u001b[0;36m<listcomp>\u001b[1;34m(.0)\u001b[0m\n\u001b[0;32m      1\u001b[0m \u001b[39m# build registers\u001b[39;00m\n\u001b[0;32m      2\u001b[0m \u001b[39mif\u001b[39;00m \u001b[39m\"\u001b[39m\u001b[39mregisters\u001b[39m\u001b[39m\"\u001b[39m \u001b[39min\u001b[39;00m device:\n\u001b[1;32m----> 3\u001b[0m     regs \u001b[39m=\u001b[39m Collection([Register\u001b[39m.\u001b[39;49mfrom_json(reg) \u001b[39mfor\u001b[39;00m reg \u001b[39min\u001b[39;00m device[\u001b[39m\"\u001b[39m\u001b[39mregisters\u001b[39m\u001b[39m\"\u001b[39m]\u001b[39m.\u001b[39mitems() \u001b[39mif\u001b[39;00m reg \u001b[39mis\u001b[39;00m \u001b[39mnot\u001b[39;00m \u001b[39mNone\u001b[39;00m])\n\u001b[0;32m      4\u001b[0m     register_df \u001b[39m=\u001b[39m pd\u001b[39m.\u001b[39mDataFrame([reg\u001b[39m.\u001b[39mto_dict() \u001b[39mfor\u001b[39;00m reg \u001b[39min\u001b[39;00m regs])\n\u001b[0;32m      5\u001b[0m     register_df[\u001b[39m\"\u001b[39m\u001b[39mname\u001b[39m\u001b[39m\"\u001b[39m] \u001b[39m=\u001b[39m register_df[\u001b[39m\"\u001b[39m\u001b[39muid\u001b[39m\u001b[39m\"\u001b[39m]\u001b[39m.\u001b[39mapply(\u001b[39mlambda\u001b[39;00m x: (x\u001b[39m.\u001b[39mrender_pointer()))\n",
      "File \u001b[1;32mc:\\Users\\neurogears\\Documents\\git\\harptech\\automatic_code_generation\\reflex-generator\\reflexgenerator\\sources\\__init__.py:428\u001b[0m, in \u001b[0;36mRegister.from_json\u001b[1;34m(self, json_object)\u001b[0m\n\u001b[0;32m    423\u001b[0m \u001b[39m@classmethod\u001b[39m\n\u001b[0;32m    424\u001b[0m \u001b[39mdef\u001b[39;00m \u001b[39mfrom_json\u001b[39m(\u001b[39mself\u001b[39m,\n\u001b[0;32m    425\u001b[0m               json_object: Tuple[\u001b[39mstr\u001b[39m, Dict[\u001b[39mstr\u001b[39m, \u001b[39many\u001b[39m]]) \u001b[39m-\u001b[39m\u001b[39m>\u001b[39m Register:\n\u001b[0;32m    427\u001b[0m     _name \u001b[39m=\u001b[39m json_object[\u001b[39m0\u001b[39m]\n\u001b[1;32m--> 428\u001b[0m     \u001b[39mreturn\u001b[39;00m Register(name\u001b[39m=\u001b[39m_name, \u001b[39m*\u001b[39m\u001b[39m*\u001b[39mjson_object[\u001b[39m1\u001b[39m])\n",
      "File \u001b[1;32m<attrs generated init reflexgenerator.sources.Register>:7\u001b[0m, in \u001b[0;36m__init__\u001b[1;34m(self, name, address, type, length, access, payloadSpec, maskType, description, converter, defaultValue, maxValue, minValue, interfaceType, visibility, volatile, group, uid)\u001b[0m\n\u001b[0;32m      5\u001b[0m _setattr(\u001b[39mself\u001b[39m, \u001b[39m'\u001b[39m\u001b[39mlength\u001b[39m\u001b[39m'\u001b[39m, __attr_converter_length(length))\n\u001b[0;32m      6\u001b[0m _setattr(\u001b[39mself\u001b[39m, \u001b[39m'\u001b[39m\u001b[39maccess\u001b[39m\u001b[39m'\u001b[39m, __attr_converter_access(access))\n\u001b[1;32m----> 7\u001b[0m _setattr(\u001b[39mself\u001b[39m, \u001b[39m'\u001b[39m\u001b[39mpayloadSpec\u001b[39m\u001b[39m'\u001b[39m, __attr_converter_payloadSpec(payloadSpec))\n\u001b[0;32m      8\u001b[0m _setattr(\u001b[39mself\u001b[39m, \u001b[39m'\u001b[39m\u001b[39mmaskType\u001b[39m\u001b[39m'\u001b[39m, __attr_converter_maskType(maskType))\n\u001b[0;32m      9\u001b[0m _setattr(\u001b[39mself\u001b[39m, \u001b[39m'\u001b[39m\u001b[39mdescription\u001b[39m\u001b[39m'\u001b[39m, __attr_converter_description(description))\n",
      "File \u001b[1;32mc:\\Users\\neurogears\\Documents\\git\\harptech\\automatic_code_generation\\reflex-generator\\reflexgenerator\\sources\\__init__.py:381\u001b[0m, in \u001b[0;36m_payloadSpec_parser\u001b[1;34m(value)\u001b[0m\n\u001b[0;32m    379\u001b[0m     \u001b[39mreturn\u001b[39;00m value\n\u001b[0;32m    380\u001b[0m \u001b[39mif\u001b[39;00m \u001b[39misinstance\u001b[39m(value, \u001b[39mdict\u001b[39m):\n\u001b[1;32m--> 381\u001b[0m     \u001b[39mreturn\u001b[39;00m [PayloadMember\u001b[39m.\u001b[39mfrom_json(s) \u001b[39mfor\u001b[39;00m s \u001b[39min\u001b[39;00m value\u001b[39m.\u001b[39mitems()]\n\u001b[0;32m    382\u001b[0m \u001b[39mprint\u001b[39m(value, \u001b[39mtype\u001b[39m(value))\n\u001b[0;32m    383\u001b[0m \u001b[39mraise\u001b[39;00m \u001b[39mTypeError\u001b[39;00m(\u001b[39m\"\u001b[39m\u001b[39mUnexpected input type.\u001b[39m\u001b[39m\"\u001b[39m)\n",
      "File \u001b[1;32mc:\\Users\\neurogears\\Documents\\git\\harptech\\automatic_code_generation\\reflex-generator\\reflexgenerator\\sources\\__init__.py:381\u001b[0m, in \u001b[0;36m<listcomp>\u001b[1;34m(.0)\u001b[0m\n\u001b[0;32m    379\u001b[0m     \u001b[39mreturn\u001b[39;00m value\n\u001b[0;32m    380\u001b[0m \u001b[39mif\u001b[39;00m \u001b[39misinstance\u001b[39m(value, \u001b[39mdict\u001b[39m):\n\u001b[1;32m--> 381\u001b[0m     \u001b[39mreturn\u001b[39;00m [PayloadMember\u001b[39m.\u001b[39;49mfrom_json(s) \u001b[39mfor\u001b[39;00m s \u001b[39min\u001b[39;00m value\u001b[39m.\u001b[39mitems()]\n\u001b[0;32m    382\u001b[0m \u001b[39mprint\u001b[39m(value, \u001b[39mtype\u001b[39m(value))\n\u001b[0;32m    383\u001b[0m \u001b[39mraise\u001b[39;00m \u001b[39mTypeError\u001b[39;00m(\u001b[39m\"\u001b[39m\u001b[39mUnexpected input type.\u001b[39m\u001b[39m\"\u001b[39m)\n",
      "File \u001b[1;32mc:\\Users\\neurogears\\Documents\\git\\harptech\\automatic_code_generation\\reflex-generator\\reflexgenerator\\sources\\__init__.py:357\u001b[0m, in \u001b[0;36mPayloadMember.from_json\u001b[1;34m(self, json_object)\u001b[0m\n\u001b[0;32m    353\u001b[0m \u001b[39m@classmethod\u001b[39m\n\u001b[0;32m    354\u001b[0m \u001b[39mdef\u001b[39;00m \u001b[39mfrom_json\u001b[39m(\u001b[39mself\u001b[39m,\n\u001b[0;32m    355\u001b[0m               json_object: Tuple[\u001b[39mstr\u001b[39m, Dict[\u001b[39mstr\u001b[39m, \u001b[39many\u001b[39m]]) \u001b[39m-\u001b[39m\u001b[39m>\u001b[39m PayloadMember:\n\u001b[0;32m    356\u001b[0m     _name \u001b[39m=\u001b[39m json_object[\u001b[39m0\u001b[39m]\n\u001b[1;32m--> 357\u001b[0m     \u001b[39mreturn\u001b[39;00m PayloadMember(name\u001b[39m=\u001b[39m_name, \u001b[39m*\u001b[39m\u001b[39m*\u001b[39mjson_object[\u001b[39m1\u001b[39m])\n",
      "File \u001b[1;32m<attrs generated init reflexgenerator.sources.PayloadMember>:5\u001b[0m, in \u001b[0;36m__init__\u001b[1;34m(self, name, mask, offset, maskType, description, converter, defaultValue, maxValue, minValue, interfaceType, uid)\u001b[0m\n\u001b[0;32m      3\u001b[0m _setattr(\u001b[39mself\u001b[39m, \u001b[39m'\u001b[39m\u001b[39mmask\u001b[39m\u001b[39m'\u001b[39m, __attr_converter_mask(mask))\n\u001b[0;32m      4\u001b[0m _setattr(\u001b[39mself\u001b[39m, \u001b[39m'\u001b[39m\u001b[39moffset\u001b[39m\u001b[39m'\u001b[39m, __attr_converter_offset(offset))\n\u001b[1;32m----> 5\u001b[0m _setattr(\u001b[39mself\u001b[39m, \u001b[39m'\u001b[39m\u001b[39mmaskType\u001b[39m\u001b[39m'\u001b[39m, __attr_converter_maskType(maskType))\n\u001b[0;32m      6\u001b[0m _setattr(\u001b[39mself\u001b[39m, \u001b[39m'\u001b[39m\u001b[39mdescription\u001b[39m\u001b[39m'\u001b[39m, __attr_converter_description(description))\n\u001b[0;32m      7\u001b[0m _setattr(\u001b[39mself\u001b[39m, \u001b[39m'\u001b[39m\u001b[39mconverter\u001b[39m\u001b[39m'\u001b[39m, converter)\n",
      "File \u001b[1;32mc:\\Users\\neurogears\\Documents\\git\\harptech\\automatic_code_generation\\reflex-generator\\reflexgenerator\\sources\\__init__.py:313\u001b[0m, in \u001b[0;36mget_mask\u001b[1;34m(value)\u001b[0m\n\u001b[0;32m    311\u001b[0m     \u001b[39mreturn\u001b[39;00m [_get_mask_helper(_mask) \u001b[39mfor\u001b[39;00m _mask \u001b[39min\u001b[39;00m value]\n\u001b[0;32m    312\u001b[0m \u001b[39mif\u001b[39;00m \u001b[39misinstance\u001b[39m(value, \u001b[39mstr\u001b[39m):\n\u001b[1;32m--> 313\u001b[0m     \u001b[39mreturn\u001b[39;00m [_get_mask_helper(value)]\n\u001b[0;32m    314\u001b[0m \u001b[39mraise\u001b[39;00m \u001b[39mValueError\u001b[39;00m(\u001b[39m\"\u001b[39m\u001b[39mInvalid input format.\u001b[39m\u001b[39m\"\u001b[39m)\n",
      "File \u001b[1;32mc:\\Users\\neurogears\\Documents\\git\\harptech\\automatic_code_generation\\reflex-generator\\reflexgenerator\\sources\\__init__.py:321\u001b[0m, in \u001b[0;36m_get_mask_helper\u001b[1;34m(value)\u001b[0m\n\u001b[0;32m    319\u001b[0m     \u001b[39mreturn\u001b[39;00m (_MASKS[value])\n\u001b[0;32m    320\u001b[0m \u001b[39melse\u001b[39;00m:\n\u001b[1;32m--> 321\u001b[0m     \u001b[39mraise\u001b[39;00m \u001b[39mKeyError\u001b[39;00m(\u001b[39mf\u001b[39m\u001b[39m\"\u001b[39m\u001b[39mSpecified mask, \u001b[39m\u001b[39m{\u001b[39;00mvalue\u001b[39m}\u001b[39;00m\u001b[39m, has not been defined.\u001b[39m\u001b[39m\"\u001b[39m)\n",
      "\u001b[1;31mKeyError\u001b[0m: 'Specified mask, OperationMode, has not been defined.'"
     ]
    }
   ],
   "source": [
    "# build registers\n",
    "if \"registers\" in device:\n",
    "    regs = Collection([Register.from_json(reg) for reg in device[\"registers\"].items() if reg is not None])\n",
    "    register_df = pd.DataFrame([reg.to_dict() for reg in regs])\n",
    "    register_df[\"name\"] = register_df[\"uid\"].apply(lambda x: (x.render_pointer()))\n",
    "    register_df.head(5)\n",
    "else:\n",
    "    regs = None\n",
    "    register_df = pd.DataFrame()\n",
    "\n",
    "\n",
    "register_df_copy = register_df.copy()\n",
    "\n",
    "for i in register_df_copy.index:\n",
    "    if register_df_copy.at[i, 'maskType'] is not None:\n",
    "        if isinstance(register_df_copy.at[i, 'maskType'][0], reflexgenerator.sources.Mask):\n",
    "            register_df_copy.at[i, 'maskType'] = [x.uid.render_pointer() for x in register_df_copy.at[i, 'maskType']]\n",
    "    if register_df_copy.at[i, 'payloadSpec'] is not None:\n",
    "            if isinstance(register_df_copy.at[i, 'payloadSpec'][0], reflexgenerator.sources.PayloadMember):\n",
    "                register_df_copy.at[i, 'payloadSpec'] = [x.uid.render_pointer() for x in register_df_copy.at[i, 'payloadSpec']]"
   ]
  },
  {
   "cell_type": "code",
   "execution_count": 10,
   "metadata": {},
   "outputs": [],
   "source": [
    "#Build payload members\n",
    "payloadMembers = Collection([entry.parent for entry in filter_refs_by_type(reflexgenerator.sources.PayloadMember).values()])\n",
    "payloadMembers_df = pd.DataFrame([payloadMember.to_dict() for payloadMember in payloadMembers])\n",
    "payloadMembers_df[\"name\"] = payloadMembers_df[\"uid\"].apply(lambda x: (x.render_pointer()))\n",
    "\n",
    "#deep copy\n",
    "payloadMembers_df_copy = payloadMembers_df.copy() if payloadMembers_df is not None else pd.DataFrame()"
   ]
  },
  {
   "cell_type": "code",
   "execution_count": 11,
   "metadata": {},
   "outputs": [],
   "source": [
    "#Build IOs\n",
    "pinMapping = Collection([PinMap_from_json(pinmap) for pinmap in ios.items() if pinmap is not None])\n",
    "pinMapping_df = pd.DataFrame([pinmap.to_dict() for pinmap in pinMapping])\n",
    "pinMapping_df[\"name\"] = pinMapping_df[\"uid\"].apply(lambda x: (x.render_pointer()))\n"
   ]
  },
  {
   "cell_type": "code",
   "execution_count": 13,
   "metadata": {},
   "outputs": [],
   "source": [
    "txt = f\"\"\"\n",
    "\n",
    "# Device\n",
    "\n",
    "{metadata.format_dict()}\n",
    "--------\n",
    "\n",
    "# Registers\n",
    "\n",
    "## Summary table\n",
    "{reflexgenerator.generator.format_table(register_df_copy)}\n",
    "\n",
    "## Technical documentation\n",
    "{\"\".join([reg.format_dict() for reg in regs])}\n",
    "--------\n",
    "\n",
    "# BitMasks\n",
    "\n",
    "## Summary table\n",
    "{reflexgenerator.generator.format_table(bitMasks_df_copy)}\n",
    "\n",
    "## Technical documentation\n",
    "{\"\".join([mask.format_dict() for mask in bitMasks])}\n",
    "--------\n",
    "# PayloadMembers\n",
    "\n",
    "## Summary table\n",
    "{reflexgenerator.generator.format_table(payloadMembers_df_copy)}\n",
    "\n",
    "## Technical documentation\n",
    "{\"\".join([payloadMember.format_dict() for payloadMember in payloadMembers])}\n",
    "\n",
    "# IOs\n",
    "{reflexgenerator.generator.format_table(pinMapping_df)}\n",
    "\n",
    "## Technical documentation\n",
    "{\"\".join([pin.format_dict() for pin in pinMapping])}\n",
    "\n",
    "\n",
    "## References\n",
    "{reflexgenerator.sources.PayloadType.format_anchor_references()}\n",
    "\n",
    "{reflexgenerator.sources.AccessType.format_anchor_references()}\n",
    "\n",
    "{reflexgenerator.sources.VisibilityType.format_anchor_references()}\n",
    "\n",
    "{reflexgenerator.sources.VolatilityType.format_anchor_references()}\n",
    "\n",
    "{reflexgenerator.sources.MaskCategory.format_anchor_references()}\n",
    "\n",
    "{reflexgenerator.sources.DirectionType.format_anchor_references()}\n",
    "\n",
    "{reflexgenerator.sources.InputPinModeType.format_anchor_references()}\n",
    "\n",
    "{reflexgenerator.sources.TriggerModeType.format_anchor_references()}\n",
    "\n",
    "{reflexgenerator.sources.InterruptPriorityType.format_anchor_references()}\n",
    "\n",
    "{reflexgenerator.sources.OutputPinModeType.format_anchor_references()}\n",
    "\n",
    "{reflexgenerator.sources.InitialStateType.format_anchor_references()}\n",
    "\n",
    "\"\"\""
   ]
  },
  {
   "cell_type": "code",
   "execution_count": 14,
   "metadata": {},
   "outputs": [],
   "source": [
    "with open(\"demo_docs\\documentation.md\", \"w\") as text_file:\n",
    "    text_file.write(txt)\n",
    "\n",
    "import markdown\n",
    "with open(\"demo_docs\\documentation.html\", \"w\") as text_file:\n",
    "    text_file.write(markdown.markdown(txt, tab_length=4, extensions=['extra', 'smarty', 'sane_lists']))"
   ]
  },
  {
   "cell_type": "code",
   "execution_count": null,
   "metadata": {},
   "outputs": [],
   "source": []
  }
 ],
 "metadata": {
  "kernelspec": {
   "display_name": "GitHarpCrawler",
   "language": "python",
   "name": "python3"
  },
  "language_info": {
   "codemirror_mode": {
    "name": "ipython",
    "version": 3
   },
   "file_extension": ".py",
   "mimetype": "text/x-python",
   "name": "python",
   "nbconvert_exporter": "python",
   "pygments_lexer": "ipython3",
   "version": "3.10.8"
  },
  "orig_nbformat": 4,
  "vscode": {
   "interpreter": {
    "hash": "31e18dbbdcef53cd4cf51b478349e0fef84e585d00f71ad27545982ad4e2cea2"
   }
  }
 },
 "nbformat": 4,
 "nbformat_minor": 2
}
